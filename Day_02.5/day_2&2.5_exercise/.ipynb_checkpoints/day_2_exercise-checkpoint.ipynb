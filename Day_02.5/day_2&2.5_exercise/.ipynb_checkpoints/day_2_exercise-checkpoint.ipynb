{
 "cells": [
  {
   "cell_type": "markdown",
   "metadata": {},
   "source": [
    "# Day 2: Python Advancd\n",
    "\n"
   ]
  },
  {
   "cell_type": "markdown",
   "metadata": {},
   "source": [
    "## 1. Making a decision\n",
    "\n",
    "The following decision tree is used in a (pretty bad) hospital to decide if a patient has \"more\" health risk or \"less\". \n",
    "\n",
    "![](tree1.png)"
   ]
  },
  {
   "cell_type": "markdown",
   "metadata": {},
   "source": [
    "### 1.1 Classify a patient\n",
    "\n",
    "* Create a function that takes as input a tuple containing values for attributes (smoker,age,diet), and computes the output of the decision tree. Should return `\"less\"` or `\"more\"`.\n",
    "* Test your function on the tuple `('yes', 31, 'good')`,"
   ]
  },
  {
   "cell_type": "code",
   "execution_count": 2,
   "metadata": {},
   "outputs": [],
   "source": [
    "def decision(x):\n",
    "    # >>>>> YOUR CODE HERE\n",
    "    if x[0] == \"yes\":\n",
    "        if x[1] < 29.5:\n",
    "            condition = \"less\"\n",
    "        else:\n",
    "            if x[2] == \"good\":\n",
    "                condition = \"less\"\n",
    "            else:\n",
    "                condition = \"more\"\n",
    "    else:\n",
    "        if x[2] == \"good\":\n",
    "            condition = \"less\"\n",
    "        else:\n",
    "            if x[1] > 70:\n",
    "                condition = \"more\"\n",
    "            else:\n",
    "                condition = \"less\"\n",
    "    return condition\n",
    "    # <<<<< END YOUR CODE"
   ]
  },
  {
   "cell_type": "code",
   "execution_count": 3,
   "metadata": {},
   "outputs": [],
   "source": [
    "# Test\n",
    "x = ('yes', 31, 'good')\n",
    "assert decision(x) == 'less'"
   ]
  },
  {
   "cell_type": "markdown",
   "metadata": {},
   "source": [
    "### 1.2 Reading a dataset from a .txt file\n",
    "\n",
    "The file `health-test.txt` contains several fictious records of personal data and habits.\n",
    "\n",
    "* Read the file automatically using the methods introduced during the lecture.\n",
    "* Represent the dataset as a list of tuples. Make sure that the tuples have the same format as above, e.g. `('yes', 31, 'good')`.\n",
    "* Make extra note of the datatype of each element"
   ]
  },
  {
   "cell_type": "code",
   "execution_count": 4,
   "metadata": {},
   "outputs": [],
   "source": [
    "# This is the old method\n",
    "def gettest():\n",
    "    # >>>>> YOUR CODE HERE\n",
    "    with open(\"health-test.txt\",\"r\") as f:\n",
    "        str = f.read()\n",
    "    pairstr = str.split(\"\\n\")\n",
    "    pairstr.pop()\n",
    "    #print(pairstr)\n",
    "    \n",
    "    data = list()\n",
    "    datatemp = list()\n",
    "    for j in pairstr:\n",
    "        datatemp.append(j.split(\",\"))\n",
    "    for j in datatemp:\n",
    "        data.append((j[0],int(j[1]),j[2]))\n",
    "    \n",
    "    return data # get the testdata\n",
    "    # <<<<< END YOUR CODE"
   ]
  },
  {
   "cell_type": "code",
   "execution_count": 30,
   "metadata": {},
   "outputs": [],
   "source": [
    "# This is the new method\n",
    "def gettest():\n",
    "    # >>>>> YOUR CODE HERE\n",
    "    with open(\"health-test.txt\",\"r\") as f:\n",
    "        datas = list()\n",
    "        for line in f:\n",
    "            datas.append([x for x in str.split(line[:-1],\",\")])\n",
    "    \n",
    "    datan = list()\n",
    "    for j in datas:\n",
    "        datan.append((j[0],int(j[1]),j[2]))\n",
    "    \n",
    "    return datan # get the testdata\n",
    "    # <<<<< END YOUR CODE"
   ]
  },
  {
   "cell_type": "code",
   "execution_count": 29,
   "metadata": {},
   "outputs": [
    {
     "name": "stdout",
     "output_type": "stream",
     "text": [
      "[('yes', 21, 'poor'), ('no', 50, 'good'), ('no', 23, 'good'), ('no', 45, 'poor'), ('yes', 51, 'good'), ('no', 60, 'good'), ('no', 15, 'poor'), ('no', 18, 'good'), ('yes', 24, 'poor'), ('no', 55, 'good'), ('no', 37, 'good'), ('yes', 99, 'poor'), ('yes', 5, 'good'), ('no', 44, 'poor'), ('yes', 16, 'good'), ('no', 18, 'good'), ('no', 25, 'poor'), ('yes', 59, 'good'), ('no', 24, 'good'), ('yes', 45, 'good'), ('yes', 51, 'good'), ('no', 65, 'good'), ('yes', 15, 'poor'), ('no', 16, 'good'), ('yes', 24, 'poor'), ('no', 65, 'good'), ('no', 37, 'good'), ('no', 99, 'good'), ('no', 5, 'poor'), ('yes', 84, 'good'), ('no', 16, 'good'), ('no', 48, 'poor')]\n"
     ]
    }
   ],
   "source": [
    "print(gettest()) #test your implementation"
   ]
  },
  {
   "cell_type": "code",
   "execution_count": 31,
   "metadata": {},
   "outputs": [
    {
     "data": {
      "text/plain": [
       "[('yes', 21, 'poor'),\n",
       " ('no', 50, 'good'),\n",
       " ('no', 23, 'good'),\n",
       " ('no', 45, 'poor'),\n",
       " ('yes', 51, 'good'),\n",
       " ('no', 60, 'good'),\n",
       " ('no', 15, 'poor'),\n",
       " ('no', 18, 'good'),\n",
       " ('yes', 24, 'poor'),\n",
       " ('no', 55, 'good'),\n",
       " ('no', 37, 'good'),\n",
       " ('yes', 99, 'poor'),\n",
       " ('yes', 5, 'good'),\n",
       " ('no', 44, 'poor'),\n",
       " ('yes', 16, 'good'),\n",
       " ('no', 18, 'good'),\n",
       " ('no', 25, 'poor'),\n",
       " ('yes', 59, 'good'),\n",
       " ('no', 24, 'good'),\n",
       " ('yes', 45, 'good'),\n",
       " ('yes', 51, 'good'),\n",
       " ('no', 65, 'good'),\n",
       " ('yes', 15, 'poor'),\n",
       " ('no', 16, 'good'),\n",
       " ('yes', 24, 'poor'),\n",
       " ('no', 65, 'good'),\n",
       " ('no', 37, 'good'),\n",
       " ('no', 99, 'good'),\n",
       " ('no', 5, 'poor'),\n",
       " ('yes', 84, 'good'),\n",
       " ('no', 16, 'good'),\n",
       " ('no', 48, 'poor')]"
      ]
     },
     "execution_count": 31,
     "metadata": {},
     "output_type": "execute_result"
    }
   ],
   "source": [
    "gettest()"
   ]
  },
  {
   "cell_type": "markdown",
   "metadata": {},
   "source": [
    "### 1.3 Applying the decision tree to the dataset\n",
    "\n",
    "* Apply the decision tree to all points in the dataset, and return the ratio of them that are classified as \"more\"."
   ]
  },
  {
   "cell_type": "code",
   "execution_count": 7,
   "metadata": {},
   "outputs": [],
   "source": [
    "def evaluate_testset():\n",
    "    # >>>>> YOUR CODE HERE\n",
    "    tot = 0\n",
    "    morenum = 0\n",
    "    for data in gettest():\n",
    "        tot += 1\n",
    "        if decision(data) == \"more\":\n",
    "            morenum += 1\n",
    "    return morenum/tot #return the ratio of them that are classified as \"more\"\n",
    "    # <<<<< END YOUR CODE"
   ]
  },
  {
   "cell_type": "code",
   "execution_count": 22,
   "metadata": {},
   "outputs": [
    {
     "name": "stdout",
     "output_type": "stream",
     "text": [
      "0.03125\n"
     ]
    }
   ],
   "source": [
    "print(evaluate_testset())"
   ]
  },
  {
   "cell_type": "markdown",
   "metadata": {},
   "source": [
    "### 1.4 Build a DecisionMaker\n",
    "\n",
    "Write a class `DecisionMaker`, which can decide on a patient's health and is also capable to evaluate multiple patients.\n",
    "- write a class `DecisionMaker`, which sets the values `b1` and `b2` and `D` in the constructor. Default value for D is `None`\n",
    "- for this class, write the function `setBoundaries(b1,b2)` which sets the boundaries for the class again (setter)\n",
    "- write a setter for `D`\n",
    "- write a function `decision(x)` which makes a decision for the data point `x`. Check if `x` has the right format, and if D has been initialized.  Use the boundaries of the class\n",
    "- write a function `evaluate(b1,b2)` which gives the ratio of points of `D` classified as `more`."
   ]
  },
  {
   "cell_type": "code",
   "execution_count": 9,
   "metadata": {},
   "outputs": [
    {
     "ename": "SyntaxError",
     "evalue": "unexpected EOF while parsing (<ipython-input-9-5bea2b67c672>, line 10)",
     "output_type": "error",
     "traceback": [
      "\u001b[1;36m  File \u001b[1;32m\"<ipython-input-9-5bea2b67c672>\"\u001b[1;36m, line \u001b[1;32m10\u001b[0m\n\u001b[1;33m    \u001b[0m\n\u001b[1;37m    ^\u001b[0m\n\u001b[1;31mSyntaxError\u001b[0m\u001b[1;31m:\u001b[0m unexpected EOF while parsing\n"
     ]
    }
   ],
   "source": [
    "class DecisionMaker:\n",
    "    # >>>>> YOUR CODE HERE\n",
    "    def __init__(self,b1,b2,D = None):\n",
    "        self.b1 = b1\n",
    "        self.b2 = b2\n",
    "        self.D = D\n",
    "        \n",
    "    def setBoundaries(self, b1, b2):\n",
    "        \n",
    "    # <<<<< END YOUR CODE\n",
    "    "
   ]
  },
  {
   "cell_type": "code",
   "execution_count": 31,
   "metadata": {},
   "outputs": [],
   "source": []
  },
  {
   "cell_type": "code",
   "execution_count": null,
   "metadata": {},
   "outputs": [],
   "source": []
  },
  {
   "cell_type": "markdown",
   "metadata": {},
   "source": [
    "## 2 Evaluate student performance\n",
    "\n",
    "In this exercise, we will read a dataset about the performance of students.  We will then use python to make some statements about the students."
   ]
  },
  {
   "cell_type": "markdown",
   "metadata": {},
   "source": [
    "### 2.1 Read the data from a .csv file\n",
    "\n",
    "Read the data of the StudentsPerformance.csv file, and store the value in a dictionary.\n",
    "- The keys of the dictionary should be the header of the csv file (first line of the .csv file!\n",
    "- The value for each key should be a list, containing the value for each student\n",
    "- All lists need to have the same length and should contain the order\n",
    "- The values which are numerical should be converted to `int`"
   ]
  },
  {
   "cell_type": "code",
   "execution_count": 32,
   "metadata": {},
   "outputs": [],
   "source": [
    "def parse_csv(filename):\n",
    "    # >>>>> YOUR CODE HERE\n",
    "    # <<<<< END YOUR CODE\n",
    "    return "
   ]
  },
  {
   "cell_type": "markdown",
   "metadata": {},
   "source": [
    "### 2.2 Extend dataset and write .csv files\n",
    "\n",
    "Now, the dictionary dataset should be appended with a student ID for each student and new test scores from the Python Programming Test. \n",
    "- the ID should be a random 4-digit number. The ID of a student needs to be unique! (no repetition). Also, the id should be stored as a string.\n",
    "- the Python Programming score are in the file _PythonScores.csv_. The order of the students are the same as in the _StudentsPerformance.csv_.\n",
    "- When you have appended the dictionary, write the extended dataset into a new .csv file with the name: _NewStudentPerformance.csv_. This file should also contain the headers for the new values we have added.\n"
   ]
  },
  {
   "cell_type": "code",
   "execution_count": null,
   "metadata": {},
   "outputs": [],
   "source": [
    "import random\n",
    "\n",
    "def add_ids(mydict):\n",
    "    # >>>>> YOUR CODE HERE\n",
    "    # <<<<< END YOUR CODE"
   ]
  },
  {
   "cell_type": "code",
   "execution_count": null,
   "metadata": {},
   "outputs": [],
   "source": [
    "def add_python_scores(mydict):\n",
    "    # >>>>> YOUR CODE HERE\n",
    "    # <<<<< END YOUR CODE"
   ]
  },
  {
   "cell_type": "code",
   "execution_count": null,
   "metadata": {},
   "outputs": [],
   "source": [
    "def write_new_csv(mydict):\n",
    "    # >>>>> YOUR CODE HERE\n",
    "    # <<<<< END YOUR CODE"
   ]
  },
  {
   "cell_type": "markdown",
   "metadata": {},
   "source": [
    "### 2.3 Get some statistics of the dataset\n",
    "\n",
    "Finally we want to get a better understanding of the dataset. Therefore answer the following questions?\n",
    "- How many males and females are in the dataset? What is the ratio?\n",
    "- For each test, find the mean, min and max value and standard deviation (you can use built-ins)\n",
    "- For each parental education, get the percentage of students.\n",
    "- Who is the best student for each test?\n",
    "- Who has the best average of all tests?\n",
    "\n",
    "For each question, print out a message.\n",
    "You can write a function for each question."
   ]
  },
  {
   "cell_type": "code",
   "execution_count": 34,
   "metadata": {},
   "outputs": [],
   "source": [
    "# >>>>> YOUR CODE HERE\n",
    "# <<<<< END YOUR CODE"
   ]
  },
  {
   "cell_type": "markdown",
   "metadata": {},
   "source": [
    "## 3 More List Comprehension!!\n",
    "\n",
    "- Find all of the numbers from 1-1000 that are divisible by 7\n",
    "- Find all of the numbers from 1-1000 that have a 3 in them\n",
    "- Count the number of spaces in a string\n",
    "- Remove all of the vowels in a string\n",
    "- Find all of the words in a string that are less than 4 letters\n",
    "\n",
    "### Challenge:\n",
    "\n",
    "- Use a dictionary comprehension to count the length of each word in a sentence.\n",
    "- Use a nested list comprehension to find all of the numbers from 1-1000 that are divisible by any single digit besides 1 (2-9)\n",
    "- For all the numbers 1-1000, use a nested list/dictionary comprehension to find the highest single digit any of the numbers is divisible by"
   ]
  },
  {
   "cell_type": "code",
   "execution_count": null,
   "metadata": {},
   "outputs": [],
   "source": []
  }
 ],
 "metadata": {
  "kernelspec": {
   "display_name": "Python 3",
   "language": "python",
   "name": "python3"
  },
  "language_info": {
   "codemirror_mode": {
    "name": "ipython",
    "version": 3
   },
   "file_extension": ".py",
   "mimetype": "text/x-python",
   "name": "python",
   "nbconvert_exporter": "python",
   "pygments_lexer": "ipython3",
   "version": "3.7.4"
  },
  "toc": {
   "base_numbering": 1,
   "nav_menu": {},
   "number_sections": true,
   "sideBar": true,
   "skip_h1_title": false,
   "title_cell": "Table of Contents",
   "title_sidebar": "Contents",
   "toc_cell": false,
   "toc_position": {},
   "toc_section_display": true,
   "toc_window_display": false
  }
 },
 "nbformat": 4,
 "nbformat_minor": 2
}
