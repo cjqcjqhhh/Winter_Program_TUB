{
 "cells": [
  {
   "cell_type": "markdown",
   "metadata": {},
   "source": [
    "# Day 3 Exercise"
   ]
  },
  {
   "cell_type": "code",
   "execution_count": 1,
   "metadata": {},
   "outputs": [],
   "source": [
    "import numpy as np"
   ]
  },
  {
   "cell_type": "markdown",
   "metadata": {},
   "source": [
    "## 1. Write a Numpy Matrix Calculator\n",
    "\n",
    "Similar to the first exercise, finsih the function `numpy_calc(arr1, arr2, operation)`, which takes in two numpy arrays, and returns the result of an operation. \n",
    "- We only allow arrays with maximal two dimensions. \n",
    "- Possible operations are: _\"add\"_, _\"subtract\"_, _\"multiplication\"_, _\"matrix-multiplication\"_, _sum_, _determinant_, _min_, and _max_.\n",
    "- for these operations _\"add\"_, _\"subtract\"_, _\"multiplication\"_, you need to check if the sizes of the two arrays are equal (We don't want to broadcast!).\n",
    "- _\"matrix-multiplication\"_ also works if the columns of `arr1` are equal two the rows of `arr2`. \n",
    "- the other operations _sum_, _determinant_, _min_, _max_. should be applied to a single array, therefore return a tuple containing the desired value for both arrays.\n",
    "- if conditions are not met, print out a message."
   ]
  },
  {
   "cell_type": "code",
   "execution_count": 2,
   "metadata": {},
   "outputs": [],
   "source": [
    "def numpy_calc(arr1, arr2, operation):\n",
    "    #<---YOUR CODE HERE\n",
    "    if operation == \"add\":\n",
    "        if arr1.shape == arr2.shape:\n",
    "            result = arr1 + arr2\n",
    "    elif operation == \"subtract\":\n",
    "        if arr1.shape == arr2.shape:\n",
    "            result = arr1 - arr2\n",
    "    elif operation == \"multiplication\":\n",
    "        if arr1.shape == arr2.shape:\n",
    "            result = arr1 * arr2\n",
    "    elif operation == \"matrix-multiplication\":\n",
    "        if arr1.shape[1] == arr2.shape[0]:\n",
    "            result = arr1 @ arr2\n",
    "    elif operation == \"sum\":\n",
    "        result = (sum(arr1),sum(arr2))\n",
    "    elif operation == \"determinant\":\n",
    "        result = (det(arr1),det(arr2))\n",
    "    elif operation == \"min\":\n",
    "        result = (min(arr1),min(arr2))\n",
    "    elif operation == \"max\":\n",
    "        result = (max(arr1),max(arr2))\n",
    "    else:\n",
    "        print(\"Wrong input!\")\n",
    "    return result\n",
    "    #<---YOUR CODE HERE\n"
   ]
  },
  {
   "cell_type": "markdown",
   "metadata": {},
   "source": [
    "# 2. Numpy Array Creation\n",
    "\n",
    "- Generate an array of length  3 x n  filled with the cyclic pattern 1, 2, 3.\n",
    "- Create an array of the first 10 odd integers.\n",
    "- Create a 10 x 10 arrays of zeros and then \"frame\" it with a border of ones.\n",
    "- Create an n x n array of zeros, where n must be odd. Then fill all axis (vertical, horizontal and diagonal) with ones\n",
    "- Create a n x n array, which represents a pyramid.Each entry represents a block. The value for each entry represents the height for the current block.  \n",
    "\n",
    "You don't need to write a function for each question"
   ]
  },
  {
   "cell_type": "code",
   "execution_count": 14,
   "metadata": {},
   "outputs": [],
   "source": [
    "#1\n",
    "def p1(n):\n",
    "    a1 = np.tile([1,2,3],n)\n",
    "    a2 = np.tile(a1,(3,1))\n",
    "    return a2"
   ]
  },
  {
   "cell_type": "code",
   "execution_count": 15,
   "metadata": {},
   "outputs": [],
   "source": [
    "#2\n",
    "def p2():\n",
    "    a = np.arange(20).reshape(10,2)\n",
    "    return a[:,1]"
   ]
  },
  {
   "cell_type": "code",
   "execution_count": 28,
   "metadata": {},
   "outputs": [],
   "source": [
    "#3\n",
    "def p3():\n",
    "    a = np.zeros((10,10))\n",
    "    b = np.vstack((np.ones(10),a))\n",
    "    b = np.vstack((b,np.ones(10)))\n",
    "    b = np.hstack((np.ones(12).reshape(12,1),b))\n",
    "    b = np.hstack((b,np.ones(12).reshape(12,1)))\n",
    "    return b"
   ]
  },
  {
   "cell_type": "code",
   "execution_count": 127,
   "metadata": {},
   "outputs": [
    {
     "ename": "TypeError",
     "evalue": "'numpy.float64' object does not support item assignment",
     "output_type": "error",
     "traceback": [
      "\u001b[1;31m---------------------------------------------------------------------------\u001b[0m",
      "\u001b[1;31mTypeError\u001b[0m                                 Traceback (most recent call last)",
      "\u001b[1;32m<ipython-input-127-6e47bb51b634>\u001b[0m in \u001b[0;36m<module>\u001b[1;34m\u001b[0m\n\u001b[0;32m     23\u001b[0m     \u001b[1;32mreturn\u001b[0m \u001b[0ma\u001b[0m\u001b[1;33m\u001b[0m\u001b[1;33m\u001b[0m\u001b[0m\n\u001b[0;32m     24\u001b[0m \u001b[1;33m\u001b[0m\u001b[0m\n\u001b[1;32m---> 25\u001b[1;33m \u001b[0mp4\u001b[0m\u001b[1;33m(\u001b[0m\u001b[1;36m9\u001b[0m\u001b[1;33m)\u001b[0m\u001b[1;33m\u001b[0m\u001b[1;33m\u001b[0m\u001b[0m\n\u001b[0m",
      "\u001b[1;32m<ipython-input-127-6e47bb51b634>\u001b[0m in \u001b[0;36mp4\u001b[1;34m(n)\u001b[0m\n\u001b[0;32m     18\u001b[0m         \u001b[1;32melse\u001b[0m\u001b[1;33m:\u001b[0m\u001b[1;33m\u001b[0m\u001b[1;33m\u001b[0m\u001b[0m\n\u001b[0;32m     19\u001b[0m             \u001b[1;32mfor\u001b[0m \u001b[0mi\u001b[0m \u001b[1;32min\u001b[0m \u001b[0mrange\u001b[0m\u001b[1;33m(\u001b[0m\u001b[0mn\u001b[0m\u001b[1;33m)\u001b[0m\u001b[1;33m:\u001b[0m\u001b[1;33m\u001b[0m\u001b[1;33m\u001b[0m\u001b[0m\n\u001b[1;32m---> 20\u001b[1;33m                 \u001b[0ma\u001b[0m\u001b[1;33m[\u001b[0m\u001b[0mi\u001b[0m\u001b[1;33m]\u001b[0m\u001b[1;33m[\u001b[0m\u001b[0mn\u001b[0m \u001b[1;33m//\u001b[0m \u001b[1;36m2\u001b[0m \u001b[1;33m+\u001b[0m \u001b[1;36m1\u001b[0m\u001b[1;33m]\u001b[0m \u001b[1;33m=\u001b[0m \u001b[1;36m1\u001b[0m\u001b[1;33m\u001b[0m\u001b[1;33m\u001b[0m\u001b[0m\n\u001b[0m\u001b[0;32m     21\u001b[0m                 \u001b[0ma\u001b[0m\u001b[1;33m[\u001b[0m\u001b[0mn\u001b[0m \u001b[1;33m//\u001b[0m \u001b[1;36m2\u001b[0m \u001b[1;33m+\u001b[0m \u001b[1;36m1\u001b[0m\u001b[1;33m]\u001b[0m\u001b[1;33m[\u001b[0m\u001b[0mi\u001b[0m\u001b[1;33m]\u001b[0m \u001b[1;33m=\u001b[0m \u001b[1;36m1\u001b[0m\u001b[1;33m\u001b[0m\u001b[1;33m\u001b[0m\u001b[0m\n\u001b[0;32m     22\u001b[0m                 \u001b[0ma\u001b[0m\u001b[1;33m[\u001b[0m\u001b[0mn\u001b[0m\u001b[1;33m-\u001b[0m\u001b[0mi\u001b[0m\u001b[1;33m-\u001b[0m\u001b[1;36m1\u001b[0m\u001b[1;33m]\u001b[0m\u001b[1;33m[\u001b[0m\u001b[0mi\u001b[0m\u001b[1;33m]\u001b[0m \u001b[1;33m=\u001b[0m \u001b[1;36m1\u001b[0m\u001b[1;33m\u001b[0m\u001b[1;33m\u001b[0m\u001b[0m\n",
      "\u001b[1;31mTypeError\u001b[0m: 'numpy.float64' object does not support item assignment"
     ]
    }
   ],
   "source": [
    "#4\n",
    "# This is my wrong way\n",
    "# maybe have time to redo it!!!!\n",
    "def p3n(n):\n",
    "    a = np.zeros((n,n))\n",
    "    b = np.vstack((6,a))\n",
    "    b = np.vstack((b,6))\n",
    "    b = np.hstack((np.ones(n+2).reshape(n+2,1),b))\n",
    "    b = np.hstack((b,np.ones(n+2).reshape(n+2,1)))\n",
    "    return b\n",
    "\n",
    "\n",
    "def p4(n):\n",
    "    if (n-1) % 2 != 0 or n < 0:\n",
    "        print(\"n should be odd number larger than zero!\")\n",
    "    else:\n",
    "        a = np.zeros(n)\n",
    "        if n == 1:\n",
    "            a = np.ones(1)\n",
    "        else:\n",
    "            for i in range(n):\n",
    "                a[i][n // 2 + 1] = 1\n",
    "                a[n // 2 + 1][i] = 1\n",
    "                a[n-i-1][i] = 1\n",
    "    return a\n",
    "\n",
    "p4(9)"
   ]
  },
  {
   "cell_type": "code",
   "execution_count": 129,
   "metadata": {},
   "outputs": [
    {
     "data": {
      "text/plain": [
       "array([[1., 0., 0., 0., 0., 1., 0., 0., 0., 0., 1.],\n",
       "       [0., 1., 0., 0., 0., 1., 0., 0., 0., 1., 0.],\n",
       "       [0., 0., 1., 0., 0., 1., 0., 0., 1., 0., 0.],\n",
       "       [0., 0., 0., 1., 0., 1., 0., 1., 0., 0., 0.],\n",
       "       [0., 0., 0., 0., 1., 1., 1., 0., 0., 0., 0.],\n",
       "       [1., 1., 1., 1., 1., 1., 1., 1., 1., 1., 1.],\n",
       "       [0., 0., 0., 0., 1., 1., 1., 0., 0., 0., 0.],\n",
       "       [0., 0., 0., 1., 0., 1., 0., 1., 0., 0., 0.],\n",
       "       [0., 0., 1., 0., 0., 1., 0., 0., 1., 0., 0.],\n",
       "       [0., 1., 0., 0., 0., 1., 0., 0., 0., 1., 0.],\n",
       "       [1., 0., 0., 0., 0., 1., 0., 0., 0., 0., 1.]])"
      ]
     },
     "execution_count": 129,
     "metadata": {},
     "output_type": "execute_result"
    }
   ],
   "source": [
    "#4 Solution\n",
    "def p4s(n):\n",
    "    arr1 = np.zeros((n,n))\n",
    "\n",
    "    #diag first\n",
    "    row = np.arange(n)\n",
    "    col = np.arange(n)\n",
    "    arr1[row,col] = 1\n",
    "    #diag second\n",
    "    row = np.arange(n)\n",
    "    col = np.arange(n-1,-1,-1)\n",
    "    # also possible \n",
    "    col = (np.arange(n) +1)*-1\n",
    "    arr1[row,col] = 1\n",
    "\n",
    "    # vertical\n",
    "    row = np.arange(n)\n",
    "    col = n//2\n",
    "    arr1[row,col] = 1\n",
    "\n",
    "    # horizontal\n",
    "    row = np.arange(n)\n",
    "    col = n//2\n",
    "    arr1[col,row] = 1\n",
    "    return arr1\n",
    "\n",
    "p4s(11)"
   ]
  },
  {
   "cell_type": "code",
   "execution_count": 67,
   "metadata": {},
   "outputs": [
    {
     "name": "stdout",
     "output_type": "stream",
     "text": [
      "n should be odd number!\n"
     ]
    }
   ],
   "source": [
    "#5\n",
    "\n",
    "def get_n_square_for3x3(n):\n",
    "    a = np.zeros((3,3))\n",
    "    a[:,:] = n - 1\n",
    "    a[1,1] = n\n",
    "    return a\n",
    "\n",
    "def add_frame(num,arr):\n",
    "    arr2 = np.pad(arr,((1,1),(1,1)),'constant',constant_values = (num,num))\n",
    "    return arr2\n",
    "\n",
    "def p5(n):\n",
    "    if n % 2 == 0:\n",
    "        print(\"n should be odd number!\")\n",
    "    else:\n",
    "        pyramid = np.array([n])\n",
    "        if n == 1:\n",
    "            return np.ones([1])\n",
    "        elif n == 3:\n",
    "            return get_n_square_for3x3(1)\n",
    "        else:\n",
    "            pyramid = get_n_square_for3x3(n // 2)\n",
    "            for i in range(n // 2 - 1):\n",
    "                pyramid = add_frame(n//2 - i - 2,pyramid)\n",
    "        return pyramid\n",
    "p5(10)\n",
    "    "
   ]
  },
  {
   "cell_type": "markdown",
   "metadata": {},
   "source": [
    "# 3. Numpy Chessboard\n",
    "\n",
    "Create an numpy array with size `8 x 8` and fill the array with 1s and 0s, so that they are arranged like a chessboard. Try to use slicing, but other methods will also work."
   ]
  },
  {
   "cell_type": "code",
   "execution_count": 80,
   "metadata": {},
   "outputs": [
    {
     "data": {
      "text/plain": [
       "array([[1., 0., 1., 0., 1., 0., 1., 0.],\n",
       "       [0., 1., 0., 1., 0., 1., 0., 1.],\n",
       "       [1., 0., 1., 0., 1., 0., 1., 0.],\n",
       "       [0., 1., 0., 1., 0., 1., 0., 1.],\n",
       "       [1., 0., 1., 0., 1., 0., 1., 0.],\n",
       "       [0., 1., 0., 1., 0., 1., 0., 1.],\n",
       "       [1., 0., 1., 0., 1., 0., 1., 0.],\n",
       "       [0., 1., 0., 1., 0., 1., 0., 1.]])"
      ]
     },
     "execution_count": 80,
     "metadata": {},
     "output_type": "execute_result"
    }
   ],
   "source": [
    "board = np.zeros((8,8))\n",
    "board[::2,:] = 1\n",
    "board[:,::2] = 1\n",
    "board[1::2,:] = 0\n",
    "board[:,1::2] = 0\n",
    "board[1::2,1::2] = 1\n"
   ]
  },
  {
   "cell_type": "markdown",
   "metadata": {},
   "source": [
    "# 4 Numpy Indexing\n",
    "\n",
    "We want to quickly acquire some values from a matrix in numpy with numpy indexing. Therefore load the numpy array in the .txt file _\"numpy-array.txt\"_ with the numpy function `np.loadtxt()`. Docs are here:https://docs.scipy.org/doc/numpy/reference/generated/numpy.loadtxt.html. \n",
    "\n",
    "Afterwards answer following questions, and try to use only numpy functions:\n",
    "- how many values are above 90?\n",
    "- where are the indices of these values? Return the first 5 as a list of tuples(row-index, column-index)\n",
    "- how many values are dividable by 7?\n",
    "- what is the max value, and how many times is it in the array? Return a tuple (max_value,count)\n",
    "- are there any value with decimals? \n",
    "- are all values positive?\n",
    "\n",
    "fill the provided function blocks and return the result!"
   ]
  },
  {
   "cell_type": "code",
   "execution_count": 119,
   "metadata": {},
   "outputs": [],
   "source": [
    "matrix = np.loadtxt(\"numpy-array.txt\",dtype=np.dtype(float))\n",
    "\n",
    "# How many above 90?\n",
    "def question1():\n",
    "    #<---YOUR CODE HERE\n",
    "    m = matrix > 90\n",
    "    num = matrix[m]\n",
    "    result = len(num) \n",
    "    #<---YOUR CODE HERE\n",
    "    return result\n",
    "\n",
    "# First 5 indices of values above 90\n",
    "def question2():\n",
    "    #<---YOUR CODE HERE\n",
    "    m = np.where(matrix > 90)\n",
    "    resultList = list(zip(m[0][:5],m[1][:5]))\n",
    "    #<---YOUR CODE HERE\n",
    "    return resultList\n",
    "\n",
    "#how many values are dividable by 7\n",
    "def question3():\n",
    "    #<---YOUR CODE HERE\n",
    "    m = (matrix % 7 == 0)\n",
    "    num = matrix[m]\n",
    "    result = len(num)\n",
    "    #<---YOUR CODE HERE\n",
    "    return result\n",
    "\n",
    "# max value and count of max value\n",
    "def question4():\n",
    "    #<---YOUR CODE HERE\n",
    "    maxValue = np.max(matrix)\n",
    "    countMaxValue = len(np.where(matrix == maxValue)[0])\n",
    "    #<---YOUR CODE HERE\n",
    "    return (maxValue, countMaxValue)\n",
    "\n",
    "# are there any decimal values?\n",
    "def question5():\n",
    "    #<---YOUR CODE HERE\n",
    "    m = (0 < (matrix % 1))\n",
    "    num = matrix[m]\n",
    "    resultBool = (len(num) > 0)\n",
    "    #<---YOUR CODE HERE\n",
    "    return resultBool\n",
    "\n",
    "# are all positive?\n",
    "def question6():\n",
    "    #<---YOUR CODE HERE\n",
    "    m = (matrix <= 0)\n",
    "    num = matrix[m]\n",
    "    resultPositive = (len(num) == 0)\n",
    "    #<---YOUR CODE HERE\n",
    "    return resultPositive"
   ]
  },
  {
   "cell_type": "code",
   "execution_count": 131,
   "metadata": {},
   "outputs": [
    {
     "data": {
      "text/plain": [
       "False"
      ]
     },
     "execution_count": 131,
     "metadata": {},
     "output_type": "execute_result"
    }
   ],
   "source": [
    "# test your results\n",
    "question1()\n",
    "assert question1() == 1018\n",
    "\n",
    "question2()\n",
    "\n",
    "question3()\n",
    "\n",
    "question4()\n",
    "\n",
    "question5()\n",
    "\n",
    "question6()"
   ]
  },
  {
   "cell_type": "markdown",
   "metadata": {},
   "source": [
    "# 5 Python vs. Numpy\n",
    "\n",
    "We want to show how much faster numpy is than pure python when we do calculations on big data sets. Therefore we make a quick example, where we want to calculate the average and variance of distribution for students performamce of multiple tests.\n",
    "- Write a function `create_values_py(n, d)` which uses pure python to create a list of random values between 0-100 (including 100) for the number of tests, for each student. You should therefore return a list of `n`-tuples, where each tuple has `d`-entries\n",
    "- Write a function `create_values_np(n, d)` which uses only numpy functions to create an array of shape `n x d`, which is filled with random between 0-100 (including 100).\n",
    "- also create a function `create_values_np_from_py(values)`which take the python list of tuples and creates an array of the appropriate shape.\n",
    "- write a function `get_var_py(values)` which uses pure python to calculate the variance of the average student score of all tests.\n",
    "- write a function `get_var_ny(values)` which uses only numpy (no for loops, no list comprehension) to calculate the variance of the average student score of all tests.\n",
    "- compare the speed of these calculations for different `d`-values."
   ]
  },
  {
   "cell_type": "code",
   "execution_count": null,
   "metadata": {},
   "outputs": [],
   "source": [
    "import random\n",
    "import numpy as np\n",
    "\n",
    "def create_values_py(n, d):\n",
    "    # YOUR CODE HERE\n",
    "    return values\n",
    "\n",
    "def create_values_np(n, d):\n",
    "    # YOUR CODE HERE\n",
    "    return values\n",
    "\n",
    "def create_values_np_from_py(values):\n",
    "    # YOUR CODE HERE\n",
    "    return values\n",
    "\n",
    "def get_var_py(values):\n",
    "    # YOUR CODE HERE\n",
    "    return var\n",
    "\n",
    "def get_var_np(values):\n",
    "    # YOUR CODE HERE\n",
    "    return var\n",
    "\n",
    "# Check if both methods are equal\n",
    "values_py = create_values_py(20,10)\n",
    "values_np = create_values_np_from_py(values_py)\n",
    "assert get_var_py(values_py) == get_var_np(values_np)"
   ]
  },
  {
   "cell_type": "markdown",
   "metadata": {},
   "source": [
    "Next, we want to plot the performance for the python and numpy functions. Therefore, we are going to use the matplotlib, which we will introduce in the next lecture."
   ]
  },
  {
   "cell_type": "code",
   "execution_count": null,
   "metadata": {},
   "outputs": [],
   "source": [
    "import matplotlib\n",
    "from matplotlib import pyplot as plt\n",
    "%matplotlib inline\n",
    "from IPython.display import set_matplotlib_formats\n",
    "set_matplotlib_formats('pdf', 'png')\n",
    "plt.rcParams['savefig.dpi'] = 90\n",
    "import time"
   ]
  },
  {
   "cell_type": "code",
   "execution_count": 132,
   "metadata": {},
   "outputs": [
    {
     "ename": "NameError",
     "evalue": "name 'create_values_py' is not defined",
     "output_type": "error",
     "traceback": [
      "\u001b[1;31m---------------------------------------------------------------------------\u001b[0m",
      "\u001b[1;31mNameError\u001b[0m                                 Traceback (most recent call last)",
      "\u001b[1;32m<ipython-input-132-d1efc899ac47>\u001b[0m in \u001b[0;36m<module>\u001b[1;34m\u001b[0m\n\u001b[0;32m      7\u001b[0m \u001b[1;32mfor\u001b[0m \u001b[0md\u001b[0m \u001b[1;32min\u001b[0m \u001b[0mdlist\u001b[0m\u001b[1;33m:\u001b[0m\u001b[1;33m\u001b[0m\u001b[1;33m\u001b[0m\u001b[0m\n\u001b[0;32m      8\u001b[0m \u001b[1;33m\u001b[0m\u001b[0m\n\u001b[1;32m----> 9\u001b[1;33m     \u001b[0mvalues_py\u001b[0m \u001b[1;33m=\u001b[0m \u001b[0mcreate_values_py\u001b[0m\u001b[1;33m(\u001b[0m\u001b[0mn\u001b[0m\u001b[1;33m,\u001b[0m\u001b[0md\u001b[0m\u001b[1;33m)\u001b[0m\u001b[1;33m\u001b[0m\u001b[1;33m\u001b[0m\u001b[0m\n\u001b[0m\u001b[0;32m     10\u001b[0m     \u001b[0mvalues_np\u001b[0m \u001b[1;33m=\u001b[0m \u001b[0mcreate_values_np_from_py\u001b[0m\u001b[1;33m(\u001b[0m\u001b[0mvalues_py\u001b[0m\u001b[1;33m)\u001b[0m\u001b[1;33m\u001b[0m\u001b[1;33m\u001b[0m\u001b[0m\n\u001b[0;32m     11\u001b[0m \u001b[1;33m\u001b[0m\u001b[0m\n",
      "\u001b[1;31mNameError\u001b[0m: name 'create_values_py' is not defined"
     ]
    }
   ],
   "source": [
    "n = 1000\n",
    "dlist = [1,10, 20, 50, 100, 500, 1000]\n",
    "\n",
    "# Measure the computation time for each choice of number of dimensions d\n",
    "tlist_py = []\n",
    "tlist_np = []\n",
    "for d in dlist:\n",
    "    \n",
    "    values_py = create_values_py(n,d)\n",
    "    values_np = create_values_np_from_py(values_py)\n",
    "    \n",
    "    t1 = time.clock()\n",
    "    get_var_py(values_py)\n",
    "    t2 = time.clock()\n",
    "    tlist_py += [t2 - t1]\n",
    "    \n",
    "    t1 = time.clock()\n",
    "    get_var_np(values_np)\n",
    "    t2 = time.clock()\n",
    "    tlist_np += [t2 - t1]\n",
    "\n",
    "\n",
    "# plot the results in a line plot with matplotlib\n",
    "plt.figure(figsize=(5, 3))\n",
    "plt.plot(dlist, tlist_py, '-',c=\"b\")\n",
    "plt.plot(dlist, tlist_np, '-',c=\"r\")\n",
    "plt.xlim(dlist[0],dlist[-1])\n",
    "plt.xlabel('d')\n",
    "plt.ylabel('time');\n",
    "plt.grid(True)\n",
    "plt.legend((\"python\",\"numpy\"))\n",
    "plt.show()"
   ]
  },
  {
   "cell_type": "markdown",
   "metadata": {},
   "source": []
  },
  {
   "cell_type": "code",
   "execution_count": null,
   "metadata": {},
   "outputs": [],
   "source": []
  }
 ],
 "metadata": {
  "kernelspec": {
   "display_name": "Python 3",
   "language": "python",
   "name": "python3"
  },
  "language_info": {
   "codemirror_mode": {
    "name": "ipython",
    "version": 3
   },
   "file_extension": ".py",
   "mimetype": "text/x-python",
   "name": "python",
   "nbconvert_exporter": "python",
   "pygments_lexer": "ipython3",
   "version": "3.7.4"
  },
  "toc": {
   "base_numbering": 1,
   "nav_menu": {},
   "number_sections": true,
   "sideBar": true,
   "skip_h1_title": false,
   "title_cell": "Table of Contents",
   "title_sidebar": "Contents",
   "toc_cell": false,
   "toc_position": {},
   "toc_section_display": true,
   "toc_window_display": false
  }
 },
 "nbformat": 4,
 "nbformat_minor": 2
}
