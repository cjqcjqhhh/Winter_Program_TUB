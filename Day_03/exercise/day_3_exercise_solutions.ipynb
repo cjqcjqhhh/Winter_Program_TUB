{
 "cells": [
  {
   "cell_type": "markdown",
   "metadata": {},
   "source": [
    "# Day 3 Exercise"
   ]
  },
  {
   "cell_type": "code",
   "execution_count": 7,
   "metadata": {},
   "outputs": [],
   "source": [
    "import numpy as np"
   ]
  },
  {
   "cell_type": "markdown",
   "metadata": {},
   "source": [
    "## 1. Write a Numpy Matrix Calculator\n",
    "\n",
    "Similar to the first exercise, finsih the function `numpy_calc(arr1, arr2, operation)`, which takes in two numpy arrays, and returns the result of an operation. \n",
    "- We only allow arrays with maximal two dimensions. \n",
    "- Possible operations are: _\"add\"_, _\"subtract\"_, _\"multiplication\"_, _\"matrix-multiplication\"_, _sum_, _determinant_, _min_, and _max_.\n",
    "- for these operations _\"add\"_, _\"subtract\"_, _\"multiplication\"_, you need to check if the sizes of the two arrays are equal (We don't want to broadcast!).\n",
    "- _\"matrix-multiplication\"_ also works if the columns of `arr1` are equal two the rows of `arr2`. \n",
    "- the other operations _sum_, _determinant_, _min_, _max_. should be applied to a single array, therefore return a tuple containing the desired value for both arrays.\n",
    "- if conditions are not met, print out a message."
   ]
  },
  {
   "cell_type": "code",
   "execution_count": 141,
   "metadata": {},
   "outputs": [
    {
     "name": "stdout",
     "output_type": "stream",
     "text": [
      "(2, 1)\n"
     ]
    },
    {
     "data": {
      "text/plain": [
       "array([[6, 2],\n",
       "       [3, 1]])"
      ]
     },
     "execution_count": 141,
     "metadata": {},
     "output_type": "execute_result"
    }
   ],
   "source": [
    "def numpy_calc(arr1, arr2, operation):\n",
    "    \n",
    "    legal_ops =[\"add\", \"subtract\", \"multiplication\", \"division\",\"matrix-multiplication\",\n",
    "                \"sum\", \"min\", \"max\",\"determinant\"]\n",
    "    \n",
    "    # check for bot arrays are type ndarray from numpy\n",
    "    if not (type(arr1) is np.ndarray and type(arr2) is np.ndarray):\n",
    "        print(\"Please provide numpy arrays\")\n",
    "        return -1\n",
    "    # check if operation is legal\n",
    "    elif operation not in legal_ops:\n",
    "        print(\"Please use a legal operation\")\n",
    "        return -1\n",
    "    #else actually some calculation\n",
    "    else:\n",
    "        if arr1.ndim == 1:\n",
    "            dimSize = arr1.shape[0]\n",
    "            arr1 = arr1.reshape((1,dimSize))\n",
    "            print(arr1.shape)\n",
    "        if arr2.ndim == 1:\n",
    "            dimSize = arr2.shape[0]\n",
    "            arr2 = arr2.reshape((1,dimSize))\n",
    "            print(arr1.shape)\n",
    "        # boolean to check if shape is same\n",
    "        isShapeEqual = arr1.shape == arr2.shape\n",
    "        \n",
    "        # go through all operations and check conditions for all\n",
    "        if operation == \"add\" and isShapeEqual:\n",
    "            return arr1 + arr2\n",
    "        elif operation == \"subtract\" and isShapeEqual:\n",
    "            return arr1 - arr2\n",
    "        elif operation == \"multiplication\" and isShapeEqual:\n",
    "            return arr1 * arr2\n",
    "        elif operation == \"matrix-multiplication\" and arr1.shape[0] == arr2.shape[1]:\n",
    "            return np.dot(arr1,arr2)\n",
    "        elif operation ==\"sum\":\n",
    "            return np.sum(arr1), np.sum(arr2)\n",
    "        elif operation ==\"min\":\n",
    "            return np.min(arr1), np.min(arr2)\n",
    "        elif operation ==\"max\":\n",
    "            return np.max(arr1), np.max(arr2)\n",
    "        elif operation ==\"determinant\":\n",
    "            return np.linalg.det(arr1), np.linalg.det(arr2)\n",
    "        # if no operation was executed, dimension where not correctly aligned\n",
    "        else:\n",
    "            print(\"Please provide matrices with aligning dimensions!\")\n",
    "            return -1\n",
    "            \n",
    "    \n",
    "x = np.array([[2], [1]])\n",
    "y = np.array([3, 1]) \n",
    "operation = \"matrix-multiplication\"\n",
    "numpy_calc(x,y,operation)"
   ]
  },
  {
   "cell_type": "markdown",
   "metadata": {},
   "source": [
    "## 2. Numpy Array Creation\n",
    "\n",
    "- Generate an array of length  3 x n  filled with the cyclic pattern 1, 2, 3.\n",
    "- Create an array of the first 10 odd integers.\n",
    "- Create a 10 x 10 arrays of zeros and then \"frame\" it with a border of ones.\n",
    "- Create an n x n array of zeros, where n must be odd. Then fill all axis (vertical, horizontal and diagonal) with ones\n",
    "- Create a n x n array, which represents a pyramid. Each entry represents a block. The value for each entry represents the height for the current block.  \n",
    "\n",
    "For each problem, create a function and print the result."
   ]
  },
  {
   "cell_type": "code",
   "execution_count": 71,
   "metadata": {},
   "outputs": [
    {
     "data": {
      "text/plain": [
       "array([1, 2, 3, 1, 2, 3, 1, 2, 3, 1, 2, 3, 1, 2, 3, 1, 2, 3, 1, 2, 3, 1,\n",
       "       2, 3, 1, 2, 3, 1, 2, 3])"
      ]
     },
     "execution_count": 71,
     "metadata": {},
     "output_type": "execute_result"
    }
   ],
   "source": [
    "# question 1a (flat)\n",
    "n =10\n",
    "list1 = [1,2,3]*n\n",
    "arr = np.asarray(list1)\n",
    "\n"
   ]
  },
  {
   "cell_type": "code",
   "execution_count": 75,
   "metadata": {},
   "outputs": [
    {
     "data": {
      "text/plain": [
       "array([1, 1, 1, 1, 1, 1, 1, 1, 1, 1, 2, 2, 2, 2, 2, 2, 2, 2, 2, 2, 3, 3,\n",
       "       3, 3, 3, 3, 3, 3, 3, 3])"
      ]
     },
     "execution_count": 75,
     "metadata": {},
     "output_type": "execute_result"
    }
   ],
   "source": [
    "arr = np.repeat([1,2,3],n)\n",
    "arr"
   ]
  },
  {
   "cell_type": "code",
   "execution_count": 76,
   "metadata": {},
   "outputs": [
    {
     "data": {
      "text/plain": [
       "array([[1, 1, 1],\n",
       "       [1, 1, 1],\n",
       "       [1, 1, 1],\n",
       "       [1, 2, 2],\n",
       "       [2, 2, 2],\n",
       "       [2, 2, 2],\n",
       "       [2, 2, 3],\n",
       "       [3, 3, 3],\n",
       "       [3, 3, 3],\n",
       "       [3, 3, 3]])"
      ]
     },
     "execution_count": 76,
     "metadata": {},
     "output_type": "execute_result"
    }
   ],
   "source": [
    "#question 1b (2-dim)\n",
    "arr1 = arr.reshape((n,3))\n",
    "arr1 # not correct order!"
   ]
  },
  {
   "cell_type": "code",
   "execution_count": 79,
   "metadata": {},
   "outputs": [
    {
     "data": {
      "text/plain": [
       "array([[1, 2, 3],\n",
       "       [1, 2, 3],\n",
       "       [1, 2, 3],\n",
       "       [1, 2, 3],\n",
       "       [1, 2, 3],\n",
       "       [1, 2, 3],\n",
       "       [1, 2, 3],\n",
       "       [1, 2, 3],\n",
       "       [1, 2, 3],\n",
       "       [1, 2, 3]])"
      ]
     },
     "execution_count": 79,
     "metadata": {},
     "output_type": "execute_result"
    }
   ],
   "source": [
    "arr2 = arr.reshape((n,3), order=\"F\")\n",
    "arr2"
   ]
  },
  {
   "cell_type": "code",
   "execution_count": 103,
   "metadata": {},
   "outputs": [
    {
     "data": {
      "text/plain": [
       "array([[1, 2, 3],\n",
       "       [1, 2, 3],\n",
       "       [1, 2, 3],\n",
       "       [1, 2, 3],\n",
       "       [1, 2, 3],\n",
       "       [1, 2, 3],\n",
       "       [1, 2, 3],\n",
       "       [1, 2, 3],\n",
       "       [1, 2, 3],\n",
       "       [1, 2, 3]])"
      ]
     },
     "execution_count": 103,
     "metadata": {},
     "output_type": "execute_result"
    }
   ],
   "source": [
    "arr3 = np.repeat([[1,2,3]],n, axis=0)\n",
    "arr3"
   ]
  },
  {
   "cell_type": "code",
   "execution_count": 105,
   "metadata": {},
   "outputs": [
    {
     "data": {
      "text/plain": [
       "array([[1, 2, 3],\n",
       "       [1, 2, 3],\n",
       "       [1, 2, 3],\n",
       "       [1, 2, 3],\n",
       "       [1, 2, 3],\n",
       "       [1, 2, 3],\n",
       "       [1, 2, 3],\n",
       "       [1, 2, 3],\n",
       "       [1, 2, 3],\n",
       "       [1, 2, 3]])"
      ]
     },
     "execution_count": 105,
     "metadata": {},
     "output_type": "execute_result"
    }
   ],
   "source": [
    "arr4 = np.tile([1,2,3],[n,1])\n",
    "arr4"
   ]
  },
  {
   "cell_type": "code",
   "execution_count": 70,
   "metadata": {},
   "outputs": [
    {
     "data": {
      "text/plain": [
       "array([ 1,  3,  5,  7,  9, 11, 13, 15, 17, 19])"
      ]
     },
     "execution_count": 70,
     "metadata": {},
     "output_type": "execute_result"
    }
   ],
   "source": [
    "#question 2\n",
    "arr1 = np.arange(1,20,2)\n",
    "arr1"
   ]
  },
  {
   "cell_type": "code",
   "execution_count": 93,
   "metadata": {},
   "outputs": [
    {
     "data": {
      "text/plain": [
       "array([ 1,  3,  5,  7,  9, 11, 13, 15, 17, 19])"
      ]
     },
     "execution_count": 93,
     "metadata": {},
     "output_type": "execute_result"
    }
   ],
   "source": [
    "arr2 = np.arange(20).reshape(10,2)\n",
    "arr2[:,1]"
   ]
  },
  {
   "cell_type": "code",
   "execution_count": null,
   "metadata": {},
   "outputs": [],
   "source": [
    "#question 3\n",
    "x = np.zeros((10,10))\n",
    "x[[0, 9], :] = 1\n",
    "x[:, [0, 9]] = 1\n",
    "\n",
    "print(x)"
   ]
  },
  {
   "cell_type": "code",
   "execution_count": 106,
   "metadata": {},
   "outputs": [
    {
     "name": "stdout",
     "output_type": "stream",
     "text": [
      "[[1. 0. 0. 0. 0. 1. 0. 0. 0. 0. 1.]\n",
      " [0. 1. 0. 0. 0. 1. 0. 0. 0. 1. 0.]\n",
      " [0. 0. 1. 0. 0. 1. 0. 0. 1. 0. 0.]\n",
      " [0. 0. 0. 1. 0. 1. 0. 1. 0. 0. 0.]\n",
      " [0. 0. 0. 0. 1. 1. 1. 0. 0. 0. 0.]\n",
      " [1. 1. 1. 1. 1. 1. 1. 1. 1. 1. 1.]\n",
      " [0. 0. 0. 0. 1. 1. 1. 0. 0. 0. 0.]\n",
      " [0. 0. 0. 1. 0. 1. 0. 1. 0. 0. 0.]\n",
      " [0. 0. 1. 0. 0. 1. 0. 0. 1. 0. 0.]\n",
      " [0. 1. 0. 0. 0. 1. 0. 0. 0. 1. 0.]\n",
      " [1. 0. 0. 0. 0. 1. 0. 0. 0. 0. 1.]]\n"
     ]
    }
   ],
   "source": [
    "# question 4:\n",
    "n = 11\n",
    "arr1 = np.zeros((n,n))\n",
    "\n",
    "#diag first\n",
    "row = np.arange(n)\n",
    "col = np.arange(n)\n",
    "arr1[row,col] = 1\n",
    "#diag second\n",
    "row = np.arange(n)\n",
    "col = np.arange(n-1,-1,-1)\n",
    "# also possible \n",
    "col = (np.arange(n) +1)*-1\n",
    "arr1[row,col] = 1\n",
    "\n",
    "# vertical\n",
    "row = np.arange(n)\n",
    "col = n//2\n",
    "arr1[row,col] = 1\n",
    "\n",
    "# horizontal\n",
    "row = np.arange(n)\n",
    "col = n//2\n",
    "arr1[col,row] = 1\n",
    "\n",
    "\n",
    "print(arr1)"
   ]
  },
  {
   "cell_type": "code",
   "execution_count": 110,
   "metadata": {},
   "outputs": [
    {
     "data": {
      "text/plain": [
       "array([[1., 0., 0., 0., 0., 1., 0., 0., 0., 0., 1.],\n",
       "       [0., 1., 0., 0., 0., 1., 0., 0., 0., 1., 0.],\n",
       "       [0., 0., 1., 0., 0., 1., 0., 0., 1., 0., 0.],\n",
       "       [0., 0., 0., 1., 0., 1., 0., 1., 0., 0., 0.],\n",
       "       [0., 0., 0., 0., 1., 1., 1., 0., 0., 0., 0.],\n",
       "       [1., 1., 1., 1., 1., 1., 1., 1., 1., 1., 1.],\n",
       "       [0., 0., 0., 0., 1., 1., 1., 0., 0., 0., 0.],\n",
       "       [0., 0., 0., 1., 0., 1., 0., 1., 0., 0., 0.],\n",
       "       [0., 0., 1., 0., 0., 1., 0., 0., 1., 0., 0.],\n",
       "       [0., 1., 0., 0., 0., 1., 0., 0., 0., 1., 0.],\n",
       "       [1., 0., 0., 0., 0., 1., 0., 0., 0., 0., 1.]])"
      ]
     },
     "execution_count": 110,
     "metadata": {},
     "output_type": "execute_result"
    }
   ],
   "source": [
    "# we can also do everything with one indexing\n",
    "arr1 = np.zeros((n,n))\n",
    "\n",
    "row = np.append(np.arange(n),(np.arange(n),np.arange(n),np.repeat(n//2,n)))\n",
    "col = np.append(np.arange(n),((np.arange(n) +1)*-1,np.repeat(n//2,n),np.arange(n)))\n",
    "\n",
    "arr1[col,row] = 1\n",
    "arr1"
   ]
  },
  {
   "cell_type": "code",
   "execution_count": 67,
   "metadata": {},
   "outputs": [
    {
     "name": "stdout",
     "output_type": "stream",
     "text": [
      "[[1. 1. 1. 1. 1. 1. 1. 1. 1. 1.]\n",
      " [1. 0. 0. 0. 0. 0. 0. 0. 0. 1.]\n",
      " [1. 0. 0. 0. 0. 0. 0. 0. 0. 1.]\n",
      " [1. 0. 0. 0. 0. 0. 0. 0. 0. 1.]\n",
      " [1. 0. 0. 0. 0. 0. 0. 0. 0. 1.]\n",
      " [1. 0. 0. 0. 0. 0. 0. 0. 0. 1.]\n",
      " [1. 0. 0. 0. 0. 0. 0. 0. 0. 1.]\n",
      " [1. 0. 0. 0. 0. 0. 0. 0. 0. 1.]\n",
      " [1. 0. 0. 0. 0. 0. 0. 0. 0. 1.]\n",
      " [1. 1. 1. 1. 1. 1. 1. 1. 1. 1.]]\n",
      "[[1. 0. 0. 0. 0. 1. 0. 0. 0. 0. 1.]\n",
      " [0. 1. 0. 0. 0. 1. 0. 0. 0. 1. 0.]\n",
      " [0. 0. 1. 0. 0. 1. 0. 0. 1. 0. 0.]\n",
      " [0. 0. 0. 1. 0. 1. 0. 1. 0. 0. 0.]\n",
      " [0. 0. 0. 0. 1. 1. 1. 0. 0. 0. 0.]\n",
      " [1. 1. 1. 1. 1. 1. 1. 1. 1. 1. 1.]\n",
      " [0. 0. 0. 0. 1. 1. 1. 0. 0. 0. 0.]\n",
      " [0. 0. 0. 1. 0. 1. 0. 1. 0. 0. 0.]\n",
      " [0. 0. 1. 0. 0. 1. 0. 0. 1. 0. 0.]\n",
      " [0. 1. 0. 0. 0. 1. 0. 0. 0. 1. 0.]\n",
      " [1. 0. 0. 0. 0. 1. 0. 0. 0. 0. 1.]]\n"
     ]
    }
   ],
   "source": [
    "# question 5:\n",
    "n = 11\n",
    "arr1 = np.zeros((n,n))\n",
    "for x in range(n):\n",
    "    arr1[0+x:-x, 0+x:-x] = x\n",
    "arr1\n",
    "\n",
    "n = 11"
   ]
  },
  {
   "cell_type": "markdown",
   "metadata": {},
   "source": [
    "## 3. Numpy Chessboard\n",
    "\n",
    "Create an numpy array with size `8 x 8` and fill the array with 1s and 0s, so that they are arranged like a chessboard. Try to use slicing, but other methods will also work."
   ]
  },
  {
   "cell_type": "code",
   "execution_count": 31,
   "metadata": {},
   "outputs": [
    {
     "name": "stdout",
     "output_type": "stream",
     "text": [
      "[[0. 0. 0. 0. 0. 0. 0. 0.]\n",
      " [0. 0. 0. 0. 0. 0. 0. 0.]\n",
      " [0. 0. 0. 0. 0. 0. 0. 0.]\n",
      " [0. 0. 0. 0. 0. 0. 0. 0.]\n",
      " [0. 0. 0. 0. 0. 0. 0. 0.]\n",
      " [0. 0. 0. 0. 0. 0. 0. 0.]\n",
      " [0. 0. 0. 0. 0. 0. 0. 0.]\n",
      " [0. 0. 0. 0. 0. 0. 0. 0.]]\n"
     ]
    }
   ],
   "source": [
    "A = np.zeros((8,8))\n",
    "print(A)"
   ]
  },
  {
   "cell_type": "code",
   "execution_count": 32,
   "metadata": {},
   "outputs": [
    {
     "data": {
      "text/plain": [
       "array([[0., 1., 0., 1., 0., 1., 0., 1.],\n",
       "       [1., 0., 1., 0., 1., 0., 1., 0.],\n",
       "       [0., 1., 0., 1., 0., 1., 0., 1.],\n",
       "       [1., 0., 1., 0., 1., 0., 1., 0.],\n",
       "       [0., 1., 0., 1., 0., 1., 0., 1.],\n",
       "       [1., 0., 1., 0., 1., 0., 1., 0.],\n",
       "       [0., 1., 0., 1., 0., 1., 0., 1.],\n",
       "       [1., 0., 1., 0., 1., 0., 1., 0.]])"
      ]
     },
     "execution_count": 32,
     "metadata": {},
     "output_type": "execute_result"
    }
   ],
   "source": [
    "A[0::2,1::2] = 1\n",
    "A[1::2,0::2] = 1\n",
    "A"
   ]
  },
  {
   "cell_type": "markdown",
   "metadata": {},
   "source": [
    "# 4 Numpy Indexing\n",
    "\n",
    "We want to quickly acquire some values from a matrix in numpy with numpy indexing. Therefore load the numpy array in the .txt file _\"numpy-array.txt\"_ with the numpy function `np.loadtxt()`. Docs are here:https://docs.scipy.org/doc/numpy/reference/generated/numpy.loadtxt.html. \n",
    "\n",
    "Afterwards answer following questions, and try to use only numpy functions:\n",
    "- how many values are above 90?\n",
    "- where are the indices of these values? Return the first 5 as a list of tuples(row-index, column-index)\n",
    "- how many values are dividable by 7?\n",
    "- what is the max value, and how many times is it in the array? Return a tuple (max_value,count)\n",
    "- are there any value with decimals? \n",
    "- are all values positive?\n",
    "\n",
    "fill the provided function blocks and return the result!"
   ]
  },
  {
   "cell_type": "code",
   "execution_count": 123,
   "metadata": {},
   "outputs": [
    {
     "name": "stdout",
     "output_type": "stream",
     "text": [
      "(100, 100)\n"
     ]
    }
   ],
   "source": [
    "matrix = np.loadtxt(\"numpy-array.txt\",dtype=np.dtype(float))\n",
    "print(matrix.shape)\n",
    "\n",
    "# How many above 90?\n",
    "def question1():\n",
    "    #<---YOUR CODE HERE\n",
    "    result = np.sum(matrix>90)\n",
    "    #<---YOUR CODE HERE\n",
    "    return result\n",
    "\n",
    "# First 5 indices of values above 90\n",
    "def question2():\n",
    "    #<---YOUR CODE HERE\n",
    "    rows, cols  = np.nonzero(matrix>90)\n",
    "    n = 5\n",
    "    resultList = []\n",
    "    for x in range(n):\n",
    "        resultList.append((rows[x], cols[x]))\n",
    "    #<---YOUR CODE HERE\n",
    "    return resultList\n",
    "\n",
    "def question2a():\n",
    "    rows, cols  = np.nonzero(matrix>90)\n",
    "    return list(zip(rows[:5],cols[:5]))\n",
    "\n",
    "#how many values are dividable by 7\n",
    "def question3():\n",
    "    #<---YOUR CODE HERE\n",
    "    result = np.sum(matrix%7==0)\n",
    "    #<---YOUR CODE HERE\n",
    "    return result\n",
    "\n",
    "# max value and count of max value\n",
    "def question4():\n",
    "    #<---YOUR CODE HERE\n",
    "    maxValue = np.max(matrix)\n",
    "    countMaxValue = np.sum(np.argmax(matrix))\n",
    "    #<---YOUR CODE HERE\n",
    "    return (maxValue, countMaxValue)\n",
    "\n",
    "# are there any decimal values?\n",
    "def question5():\n",
    "    #<---YOUR CODE HERE\n",
    "    resultBool = np.any(matrix - np.round(matrix) >0)\n",
    "    #<---YOUR CODE HERE\n",
    "    return resultBool\n",
    "\n",
    "# are all positive?\n",
    "def question6():\n",
    "    #<---YOUR CODE \n",
    "    resultBool = np.all(matrix >=0)\n",
    "    #<---YOUR CODE HERE\n",
    "    return resultBool\n",
    "\n"
   ]
  },
  {
   "cell_type": "code",
   "execution_count": 5,
   "metadata": {},
   "outputs": [
    {
     "ename": "NameError",
     "evalue": "name 'question1' is not defined",
     "output_type": "error",
     "traceback": [
      "\u001b[1;31m---------------------------------------------------------------------------\u001b[0m",
      "\u001b[1;31mNameError\u001b[0m                                 Traceback (most recent call last)",
      "\u001b[1;32m<ipython-input-5-880e4c9a057f>\u001b[0m in \u001b[0;36m<module>\u001b[1;34m\u001b[0m\n\u001b[0;32m      1\u001b[0m \u001b[1;31m# test your results\u001b[0m\u001b[1;33m\u001b[0m\u001b[1;33m\u001b[0m\u001b[1;33m\u001b[0m\u001b[0m\n\u001b[1;32m----> 2\u001b[1;33m \u001b[0mquestion1\u001b[0m\u001b[1;33m(\u001b[0m\u001b[1;33m)\u001b[0m\u001b[1;33m\u001b[0m\u001b[1;33m\u001b[0m\u001b[0m\n\u001b[0m\u001b[0;32m      3\u001b[0m \u001b[1;32massert\u001b[0m \u001b[0mquestion1\u001b[0m\u001b[1;33m(\u001b[0m\u001b[1;33m)\u001b[0m \u001b[1;33m==\u001b[0m \u001b[1;36m1018\u001b[0m\u001b[1;33m\u001b[0m\u001b[1;33m\u001b[0m\u001b[0m\n\u001b[0;32m      4\u001b[0m \u001b[1;33m\u001b[0m\u001b[0m\n\u001b[0;32m      5\u001b[0m \u001b[1;32massert\u001b[0m \u001b[0mquestion2a\u001b[0m\u001b[1;33m(\u001b[0m\u001b[1;33m)\u001b[0m \u001b[1;33m==\u001b[0m \u001b[1;33m[\u001b[0m\u001b[1;33m(\u001b[0m\u001b[1;36m0\u001b[0m\u001b[1;33m,\u001b[0m \u001b[1;36m6\u001b[0m\u001b[1;33m)\u001b[0m\u001b[1;33m,\u001b[0m \u001b[1;33m(\u001b[0m\u001b[1;36m0\u001b[0m\u001b[1;33m,\u001b[0m \u001b[1;36m8\u001b[0m\u001b[1;33m)\u001b[0m\u001b[1;33m,\u001b[0m \u001b[1;33m(\u001b[0m\u001b[1;36m0\u001b[0m\u001b[1;33m,\u001b[0m \u001b[1;36m13\u001b[0m\u001b[1;33m)\u001b[0m\u001b[1;33m,\u001b[0m \u001b[1;33m(\u001b[0m\u001b[1;36m0\u001b[0m\u001b[1;33m,\u001b[0m \u001b[1;36m20\u001b[0m\u001b[1;33m)\u001b[0m\u001b[1;33m,\u001b[0m \u001b[1;33m(\u001b[0m\u001b[1;36m0\u001b[0m\u001b[1;33m,\u001b[0m \u001b[1;36m27\u001b[0m\u001b[1;33m)\u001b[0m\u001b[1;33m]\u001b[0m\u001b[1;33m\u001b[0m\u001b[1;33m\u001b[0m\u001b[0m\n",
      "\u001b[1;31mNameError\u001b[0m: name 'question1' is not defined"
     ]
    }
   ],
   "source": [
    "# test your results\n",
    "question1()\n",
    "assert question1() == 1018\n",
    "\n",
    "assert question2a() == [(0, 6), (0, 8), (0, 13), (0, 20), (0, 27)]\n",
    "\n",
    "assert question3() == 1543\n",
    "\n",
    "assert question4() == (100, 149)\n",
    "\n",
    "assert question5() == False\n",
    "\n",
    "assert question6() == True"
   ]
  },
  {
   "cell_type": "markdown",
   "metadata": {},
   "source": [
    "# 5 Python vs. Numpy\n",
    "\n",
    "We want to show how much faster numpy is than pure python when we do calculations on big data sets. Therefore we make a quick example, where we want to calculate the average and variance of distribution for students performamce of multiple tests.\n",
    "- Write a function `create_values_py(n, d)` which uses pure python to create a list of random values between 0-100 (including 100) for the number of tests, for each student. You should therefore return a list of `n`-tuples, where each tuple has `d`-entries\n",
    "- Write a function `create_values_np(n, d)` which uses only numpy functions to create an array of shape `n x d`, which is filled with random between 0-100 (including 100).\n",
    "- also create a function `create_values_np_from_py(values)`which take the python list of tuples and creates an array of the appropriate shape.\n",
    "- write a function `get_var_py(values)` which uses pure python to calculate the variance of the average student score of all tests.\n",
    "- write a function `get_var_ny(values)` which uses only numpy (no for loops, no list comprehension) to calculate the variance of the average student score of all tests.\n",
    "- compare the speed of these calculations for different `d`-values."
   ]
  },
  {
   "cell_type": "code",
   "execution_count": 6,
   "metadata": {},
   "outputs": [
    {
     "name": "stdout",
     "output_type": "stream",
     "text": [
      "[(35, 6, 63, 63, 71, 90, 17, 56, 37, 38), (85, 2, 56, 30, 88, 101, 64, 20, 70, 57), (76, 34, 41, 60, 97, 52, 82, 58, 18, 77), (85, 60, 52, 55, 60, 68, 28, 51, 6, 89), (101, 69, 28, 81, 75, 3, 49, 37, 5, 85), (56, 22, 0, 87, 11, 3, 45, 22, 93, 6), (68, 59, 41, 100, 85, 1, 20, 20, 52, 2), (25, 22, 25, 40, 23, 13, 87, 14, 59, 84), (46, 63, 79, 82, 92, 46, 47, 82, 66, 51), (3, 59, 22, 35, 40, 60, 98, 75, 24, 19), (94, 47, 33, 34, 41, 78, 52, 92, 96, 63), (16, 80, 89, 91, 53, 56, 100, 84, 55, 52), (79, 17, 29, 100, 1, 2, 26, 87, 50, 75), (26, 58, 24, 98, 80, 65, 15, 84, 93, 85), (36, 84, 51, 27, 56, 30, 47, 14, 8, 66), (2, 71, 57, 47, 8, 92, 80, 57, 59, 68), (70, 87, 31, 47, 19, 16, 47, 72, 84, 81), (29, 81, 41, 63, 53, 21, 35, 74, 59, 17), (68, 24, 61, 83, 22, 43, 88, 13, 22, 98), (90, 21, 56, 30, 77, 87, 35, 100, 15, 32)]\n",
      "[[ 35   6  63  63  71  90  17  56  37  38]\n",
      " [ 85   2  56  30  88 101  64  20  70  57]\n",
      " [ 76  34  41  60  97  52  82  58  18  77]\n",
      " [ 85  60  52  55  60  68  28  51   6  89]\n",
      " [101  69  28  81  75   3  49  37   5  85]\n",
      " [ 56  22   0  87  11   3  45  22  93   6]\n",
      " [ 68  59  41 100  85   1  20  20  52   2]\n",
      " [ 25  22  25  40  23  13  87  14  59  84]\n",
      " [ 46  63  79  82  92  46  47  82  66  51]\n",
      " [  3  59  22  35  40  60  98  75  24  19]\n",
      " [ 94  47  33  34  41  78  52  92  96  63]\n",
      " [ 16  80  89  91  53  56 100  84  55  52]\n",
      " [ 79  17  29 100   1   2  26  87  50  75]\n",
      " [ 26  58  24  98  80  65  15  84  93  85]\n",
      " [ 36  84  51  27  56  30  47  14   8  66]\n",
      " [  2  71  57  47   8  92  80  57  59  68]\n",
      " [ 70  87  31  47  19  16  47  72  84  81]\n",
      " [ 29  81  41  63  53  21  35  74  59  17]\n",
      " [ 68  24  61  83  22  43  88  13  22  98]\n",
      " [ 90  21  56  30  77  87  35 100  15  32]]\n"
     ]
    },
    {
     "ename": "AssertionError",
     "evalue": "",
     "output_type": "error",
     "traceback": [
      "\u001b[1;31m---------------------------------------------------------------------------\u001b[0m",
      "\u001b[1;31mAssertionError\u001b[0m                            Traceback (most recent call last)",
      "\u001b[1;32m<ipython-input-6-f4aba599ad93>\u001b[0m in \u001b[0;36m<module>\u001b[1;34m\u001b[0m\n\u001b[0;32m     49\u001b[0m \u001b[0mprint\u001b[0m\u001b[1;33m(\u001b[0m\u001b[0mvalues_np\u001b[0m\u001b[1;33m)\u001b[0m\u001b[1;33m\u001b[0m\u001b[1;33m\u001b[0m\u001b[0m\n\u001b[0;32m     50\u001b[0m \u001b[1;33m\u001b[0m\u001b[0m\n\u001b[1;32m---> 51\u001b[1;33m \u001b[1;32massert\u001b[0m \u001b[0mget_var_py\u001b[0m\u001b[1;33m(\u001b[0m\u001b[0mvalues_py\u001b[0m\u001b[1;33m)\u001b[0m \u001b[1;33m==\u001b[0m \u001b[0mget_var_np\u001b[0m\u001b[1;33m(\u001b[0m\u001b[0mvalues_np\u001b[0m\u001b[1;33m)\u001b[0m\u001b[1;33m\u001b[0m\u001b[1;33m\u001b[0m\u001b[0m\n\u001b[0m",
      "\u001b[1;31mAssertionError\u001b[0m: "
     ]
    }
   ],
   "source": [
    "import random\n",
    "import numpy as np\n",
    "\n",
    "def create_values_py(n, d):\n",
    "    \n",
    "    values = list()\n",
    "    \n",
    "    for x in range(n):\n",
    "        scores = list()\n",
    "        for y in range(d):\n",
    "            scores.append(random.randint(0,101))\n",
    "        values.append(tuple(scores))\n",
    "    return values\n",
    "\n",
    "def create_values_np(n, d):\n",
    "    \n",
    "    return np.random.randint(101, size=(n,d))\n",
    "\n",
    "def create_values_np_from_py(values):\n",
    "    \n",
    "    return np.asarray(values)\n",
    "\n",
    "create_values_py(10,10)\n",
    "create_values_np(10,10)\n",
    "\n",
    "\n",
    "def get_var_py(values):\n",
    "    \n",
    "    avg_test_per_student = [sum(x)/len(x) for x in values]\n",
    "    avg_test = sum(avg_test_per_student)/len(avg_test_per_student)\n",
    "    var = sum([(avg_test-x)**2 for x in avg_test_per_student])/len(avg_test_per_student)\n",
    "    \n",
    "    return var\n",
    "\n",
    "def get_var_np(values):\n",
    "    \n",
    "    n = values.shape[0]\n",
    "    d = values.shape[1]\n",
    "    \n",
    "    avg_test_per_student = np.sum(values,axis=1)/d\n",
    "    avg_test = np.sum(avg_test_per_student,axis=0)/n\n",
    "    var = np.sum((avg_test-avg_test_per_student)**2)/n\n",
    "    \n",
    "    return var\n",
    "    \n",
    "values_py = create_values_py(20,10)\n",
    "print(values_py)\n",
    "values_np = create_values_np_from_py(values_py)\n",
    "print(values_np)\n",
    "\n",
    "assert get_var_py(values_py) == get_var_np(values_np)"
   ]
  },
  {
   "cell_type": "markdown",
   "metadata": {},
   "source": [
    "Next, we want to plot the performance for the python and numpy functions. Therefore, we are going to use the "
   ]
  },
  {
   "cell_type": "code",
   "execution_count": 7,
   "metadata": {},
   "outputs": [],
   "source": [
    "import matplotlib\n",
    "from matplotlib import pyplot as plt\n",
    "%matplotlib inline\n",
    "from IPython.display import set_matplotlib_formats\n",
    "set_matplotlib_formats('pdf', 'png')\n",
    "plt.rcParams['savefig.dpi'] = 90\n",
    "import time"
   ]
  },
  {
   "cell_type": "code",
   "execution_count": 12,
   "metadata": {},
   "outputs": [
    {
     "name": "stderr",
     "output_type": "stream",
     "text": [
      "D:\\software\\anaconda\\lib\\site-packages\\ipykernel_launcher.py:12: DeprecationWarning: time.clock has been deprecated in Python 3.3 and will be removed from Python 3.8: use time.perf_counter or time.process_time instead\n",
      "  if sys.path[0] == '':\n",
      "D:\\software\\anaconda\\lib\\site-packages\\ipykernel_launcher.py:14: DeprecationWarning: time.clock has been deprecated in Python 3.3 and will be removed from Python 3.8: use time.perf_counter or time.process_time instead\n",
      "  \n",
      "D:\\software\\anaconda\\lib\\site-packages\\ipykernel_launcher.py:17: DeprecationWarning: time.clock has been deprecated in Python 3.3 and will be removed from Python 3.8: use time.perf_counter or time.process_time instead\n",
      "D:\\software\\anaconda\\lib\\site-packages\\ipykernel_launcher.py:19: DeprecationWarning: time.clock has been deprecated in Python 3.3 and will be removed from Python 3.8: use time.perf_counter or time.process_time instead\n"
     ]
    },
    {
     "data": {
      "application/pdf": "[encoded data removed]",
      "image/png": "[encoded data removed]",
      "text/plain": [
       "<Figure size 360x216 with 1 Axes>"
      ]
     },
     "metadata": {
      "needs_background": "light"
     },
     "output_type": "display_data"
    }
   ],
   "source": [
    "n = 1000\n",
    "dlist = [1,10, 20, 50, 100, 500, 1000]\n",
    "\n",
    "# Measure the computation time for each choice of number of dimensions d\n",
    "tlist_py = []\n",
    "tlist_np = []\n",
    "for d in dlist:\n",
    "    \n",
    "    values_py = create_values_py(n,d)\n",
    "    values_np = create_values_np_from_py(values_py)\n",
    "    \n",
    "    t1 = time.clock()\n",
    "    get_var_py(values_py)\n",
    "    t2 = time.clock()\n",
    "    tlist_py += [t2 - t1]\n",
    "    \n",
    "    t1 = time.clock()\n",
    "    get_var_np(values_np)\n",
    "    t2 = time.clock()\n",
    "    tlist_np += [t2 - t1]\n",
    "\n",
    "# TODO plot the results in a line plot with matplotlib\n",
    "plt.figure(figsize=(5, 3))\n",
    "plt.plot(dlist, tlist_py, '-',c=\"b\")\n",
    "plt.plot(dlist, tlist_np, '-',c=\"r\")\n",
    "plt.xlim(dlist[0],dlist[-1])\n",
    "plt.xlabel('d')\n",
    "plt.ylabel('time');\n",
    "plt.grid(True)\n",
    "plt.legend((\"python\",\"numpy\"))\n",
    "plt.show()"
   ]
  },
  {
   "cell_type": "markdown",
   "metadata": {},
   "source": []
  },
  {
   "cell_type": "code",
   "execution_count": null,
   "metadata": {},
   "outputs": [],
   "source": []
  }
 ],
 "metadata": {
  "kernelspec": {
   "display_name": "Python 3",
   "language": "python",
   "name": "python3"
  },
  "language_info": {
   "codemirror_mode": {
    "name": "ipython",
    "version": 3
   },
   "file_extension": ".py",
   "mimetype": "text/x-python",
   "name": "python",
   "nbconvert_exporter": "python",
   "pygments_lexer": "ipython3",
   "version": "3.7.4"
  },
  "toc": {
   "base_numbering": 1,
   "nav_menu": {},
   "number_sections": true,
   "sideBar": true,
   "skip_h1_title": false,
   "title_cell": "Table of Contents",
   "title_sidebar": "Contents",
   "toc_cell": false,
   "toc_position": {},
   "toc_section_display": true,
   "toc_window_display": false
  }
 },
 "nbformat": 4,
 "nbformat_minor": 2
}
