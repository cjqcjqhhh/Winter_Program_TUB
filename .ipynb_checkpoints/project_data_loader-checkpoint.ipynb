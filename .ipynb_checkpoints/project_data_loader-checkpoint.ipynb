{
 "cells": [
  {
   "cell_type": "code",
   "execution_count": null,
   "metadata": {},
   "outputs": [],
   "source": [
    "###### GET THE TRAIN TARGET UNIQUE LIST #####\n",
    "def Get_train_targets(train_y):\n",
    "    train_y_dummies = pd.get_dummies(list(train_y[0]))\n",
    "\n",
    "    # get a dictionary\n",
    "    product_dict = {}\n",
    "    for i,product in enumerate(nn_data.columns):\n",
    "        product_dict[product] = i\n",
    "\n",
    "    #rename the dummies\n",
    "    train_y_idx = train_y_dummies.rename(columns=product_dict)\n",
    "\n",
    "    #return the idxmax value\n",
    "    train_targets = train_y_idx.idxmax(axis=1)\n",
    "    \n",
    "    return train_targets\n"
   ]
  },
  {
   "cell_type": "code",
   "execution_count": null,
   "metadata": {},
   "outputs": [],
   "source": [
    "class CustomDataset():\n",
    "\n",
    "    def __init__(self, data, labels):\n",
    "\n",
    "        self.target = torch.Tensor(labels)\n",
    "        self.data = torch.Tensor(np.asarray(data))\n",
    "        \n",
    "    def __len__(self):\n",
    "        return self.data.shape[0]\n",
    "\n",
    "    def __getitem__(self, idx):\n",
    "        return datapoint[idx], target[idx]"
   ]
  },
  {
   "cell_type": "code",
   "execution_count": null,
   "metadata": {},
   "outputs": [],
   "source": [
    "def Get_batch(one_hot_training_data,train_targets):\n",
    "    # zip the data and target\n",
    "    training_data = CustomDataset(one_hot_training_data,train_targets)\n",
    "    # batch the data point\n",
    "    train_loader = torch.utils.data.DataLoader(training_data, batch_size=40, shuffle=True)"
   ]
  }
 ],
 "metadata": {
  "kernelspec": {
   "display_name": "Python 3",
   "language": "python",
   "name": "python3"
  },
  "language_info": {
   "codemirror_mode": {
    "name": "ipython",
    "version": 3
   },
   "file_extension": ".py",
   "mimetype": "text/x-python",
   "name": "python",
   "nbconvert_exporter": "python",
   "pygments_lexer": "ipython3",
   "version": "3.7.4"
  }
 },
 "nbformat": 4,
 "nbformat_minor": 2
}
