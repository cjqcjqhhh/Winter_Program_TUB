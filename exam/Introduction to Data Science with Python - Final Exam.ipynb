{
 "cells": [
  {
   "cell_type": "markdown",
   "metadata": {},
   "source": [
    "# Final Exam\n",
    "---\n",
    "\n",
    "### Notes:\n",
    "\n",
    "\n",
    "- This exam is open book/open browser. That means you are allowed to use any resources to answer the questions, except communication with any other person.\n",
    "\n",
    "\n",
    "- Once finished you should upload your exam to the corresponding google drive submission folder, that you got assigned to. If you haven't been assigned to one, TELL US NOW!\n",
    "\n",
    "\n",
    "- The first part consists of 10 multiple choice questions, each increasing your final score by 5 points when answered corretly.\n",
    "\n",
    "\n",
    "- More details on the theory part and programming part are given below. \n",
    "\n",
    "\n",
    "- Please read the instructions carefully.\n",
    "\n",
    "\n",
    "- Good Luck!"
   ]
  },
  {
   "cell_type": "markdown",
   "metadata": {},
   "source": [
    "# Part I: Machine Learning theory (50/100 pts.)\n",
    "Please answer the multiple choice questions below. For each question, there is exactly ONE correct answer. Selecting multiple answers or the wrong answer results in 0 points for that question. Each question will have 4 different answer choices, numbered from 1-4. After each question, there will be a cell that you can use to place your answer. You just need to enter the number of the answer to that question, e.g. a number between 1-4."
   ]
  },
  {
   "cell_type": "markdown",
   "metadata": {},
   "source": [
    "## Question 1 (5pts.)\n",
    "\n",
    "A ***regression model***(e.g. linear regression) expects an input of type $\\mathbf x \\ \\epsilon \\ \\mathbb R^{d}$, where $\\mathbf x$ can have multiple dimensions/features(e.g. d=4 features/columns).\n",
    "What dimensionality and range of possible values does a label in a regression dataset have ?\n",
    "\n",
    "1. $y \\ \\epsilon \\ \\{0, 1\\}$, so y is either a scalar number equal to \"1\", or equal to \"0\" which represents one of two classes.\n",
    "\n",
    "\n",
    "2. $y \\ \\epsilon \\ \\mathbb R$, so y can represent any scalar number on the real line.\n",
    "\n",
    "\n",
    "3. $y \\ == \\ \\mathbf x$, so y has the same dimensionality and value as $\\mathbf x$.\n",
    "\n",
    "\n",
    "4. $y \\ \\epsilon \\ \\emptyset$, so there is no y-labels in a regresion task."
   ]
  },
  {
   "cell_type": "code",
   "execution_count": 28,
   "metadata": {},
   "outputs": [],
   "source": [
    "# Your solution here, for example any number between 1-4\n",
    "2"
   ]
  },
  {
   "cell_type": "markdown",
   "metadata": {},
   "source": [
    "## Question 2 (5pts.)\n",
    "\n",
    "A ***binary classification model***(e.g. binary nearest centroid classifier) expects an input of type $\\mathbf x \\ \\epsilon \\ \\mathbb R^{d}$, where $\\mathbf x$ can have multiple dimensions/features(e.g. d=4 features/columns).\n",
    "Select the type of a label \"$y$\" in a typical classification task:\n",
    "\n",
    "1. $y \\ \\epsilon \\ \\{0, 1\\}$, so y is either a scalar number equal to \"1\", or equal to \"0\" which represents one of two classes.\n",
    "\n",
    "\n",
    "2. $y \\ \\epsilon \\ \\mathbb R$, so y can represent any scalar number on the real line.\n",
    "\n",
    "\n",
    "3. $y \\ == \\ \\mathbf x$, so y has the same dimensionality and value as $\\mathbf x$.\n",
    "\n",
    "\n",
    "4. $y \\ \\epsilon \\ \\emptyset$, so there is no y-labels in a classification task."
   ]
  },
  {
   "cell_type": "code",
   "execution_count": 29,
   "metadata": {},
   "outputs": [],
   "source": [
    "# Your solution here, for example any number between 1-4\n",
    "1"
   ]
  },
  {
   "cell_type": "markdown",
   "metadata": {},
   "source": [
    "## Question 3 (5pts.)\n",
    "\n",
    "A ***clustering model***(e.g. k-neigherst neighbor clustering) expects an input of type $\\mathbf x \\ \\epsilon \\mathbb \\ R^{d}$, where $\\mathbf x$ can have multiple dimensions/features(e.g. d=4 features/columns).\n",
    "Select the type of a label \"$y$\" in a typical clustering task:\n",
    "\n",
    "1. $y \\ \\epsilon \\ \\{0, 1\\}$, so y is either a scalar number equal to \"1\", or equal to \"0\", which represents one of two classes.\n",
    "\n",
    "\n",
    "2. $y \\ \\epsilon \\ \\mathbb R$, so y can represent any scalar number on the real line.\n",
    "\n",
    "\n",
    "3. $y \\ \\epsilon \\ \\mathbf x_{input}$, so y has the same dimensionality and value as $\\mathbf x$.\n",
    "\n",
    "\n",
    "4. $y \\ \\epsilon \\ \\emptyset$, so there is no y-label in a clustering task."
   ]
  },
  {
   "cell_type": "code",
   "execution_count": 30,
   "metadata": {},
   "outputs": [],
   "source": [
    "# Your solution here, for example any number between 1-4\n",
    "4"
   ]
  },
  {
   "cell_type": "markdown",
   "metadata": {},
   "source": [
    "## Question 4 (5pts.)\n",
    "\n",
    "Which of these statements about the loss function is true ? \n",
    "\n",
    "1. The loss function is a way of measuring the performance of our machine learning model, which is used to optimize it.\n",
    "\n",
    "\n",
    "2. The loss function and the error function are 2 separate things.\n",
    "\n",
    "\n",
    "3. There exists 1 loss function that is used by every single machine learning algorithm.\n",
    "\n",
    "\n",
    "4. The loss function is independent of our training data, which means that we don't need our training data to compute the loss of our machine learning model."
   ]
  },
  {
   "cell_type": "code",
   "execution_count": 31,
   "metadata": {},
   "outputs": [],
   "source": [
    "# Your solution here, for example any number between 1-4\n",
    "1"
   ]
  },
  {
   "cell_type": "markdown",
   "metadata": {},
   "source": [
    "## Question 5 (5pts.)\n",
    "\n",
    "Which of these statements about the learning rate $\\alpha$ is true ? \n",
    "\n",
    "1. A large learning rate might result in never reaching the minimum of a loss function because our steps towards the minimum get too small to actually reach it. \n",
    "\n",
    "\n",
    "2. A small learning rate might result in \"overshooting\" the minimum of a loss function because we might \"overshoot\" the minimum.\n",
    "\n",
    "\n",
    "3. The learning rate is the step size that our gradient descent algorithm takes towards the direction of greatest decrease of our loss function, with respect to our model parameters.\n",
    "\n",
    "\n",
    "4. There learning rate has no impact on the optimization process of our loss function."
   ]
  },
  {
   "cell_type": "code",
   "execution_count": 32,
   "metadata": {},
   "outputs": [],
   "source": [
    "# Your solution here, for example any number between 1-4\n",
    "3"
   ]
  },
  {
   "cell_type": "markdown",
   "metadata": {},
   "source": [
    "## Question 6 (5pts.)\n",
    "\n",
    "A confusion matrix let's us compute a variety of metrics that can be used to measure the performance of our trained classification model. \n",
    "It usually consists of 4 fields, namely:\n",
    "\n",
    "- True positives  / TP: The number of points that our model has predicted to be from class \"1\"(sometimes referred to as \"positive\" class), while their actual label was class \"1\".\n",
    "\n",
    "\n",
    "- False positives / FP: The number of points that our model has predicted to be from class \"1\", while their actual label was class \"0\"(sometimes referred to as \"negative class\").\n",
    "\n",
    "\n",
    "- False negatives / FN: The number of points that our model has predicted to be from class \"0\", while their actual label was class \"1\".\n",
    "\n",
    "\n",
    "- True negatives  / TN: The number of points that our model has predicted to be from class \"0\", while their actual label was class \"0\".\n",
    "\n",
    "How is the accuracy computed, when given the elements of our confusion matrix ? \n",
    "\n",
    "### NOTE: \"Total\" refers to the total amount of points of the whole dataset(training set or test set).\n",
    "\n",
    "1. $Accuracy = \\frac{TP+TN}{Total}$\n",
    "\n",
    "\n",
    "2. $Accuracy = \\frac{TP}{TP+FP}$\n",
    "\n",
    "\n",
    "3. $Accuracy = \\frac{TP}{TP+FN}$\n",
    "\n",
    "\n",
    "4. $Accuracy = \\frac{TP + FP + FN + TN}{Total}$"
   ]
  },
  {
   "cell_type": "code",
   "execution_count": 33,
   "metadata": {},
   "outputs": [],
   "source": [
    "# Your solution here, for example any number between 1-4\n",
    "1"
   ]
  },
  {
   "cell_type": "markdown",
   "metadata": {},
   "source": [
    "## Question 7 (5pts.)\n",
    "\n",
    "Which of the following classification algorithms uses the distance between a new point x and the class means of multiple classes, as a decision rule for classification ?\n",
    "\n",
    "1. Binary Logisitc Regression classifier\n",
    "\n",
    "\n",
    "2. Binary K-nearest centroid classifier\n",
    "\n",
    "\n",
    "3. Convolutional Neural Network\n",
    "\n",
    "\n",
    "4. Linear Regression"
   ]
  },
  {
   "cell_type": "code",
   "execution_count": 34,
   "metadata": {},
   "outputs": [],
   "source": [
    "# Your solution here, for example any number between 1-4\n",
    "2"
   ]
  },
  {
   "cell_type": "markdown",
   "metadata": {},
   "source": [
    "## Question 8 (5pts.)\n",
    "\n",
    "When preparing the dataset for our learning algorithm, which of these steps does ***not*** help to achieve a better training process, in terms of efficiency, robustness, performance etc.\n",
    "\n",
    "\n",
    "1. Standardizing our features/columns.\n",
    "\n",
    "\n",
    "2. Dropping features that don't correlate with our label while keeping the ones that do correlate with the labels.\n",
    "\n",
    "\n",
    "3. Dropping all data points that belong to a certain label together with their labels. So at the end our dataset consists of only points from  a single class that we use for training.\n",
    "\n",
    "\n",
    "4. Training a machine learning model on different sets of hyperparameters(e.g. learning rates) and chossing the set that increases the test performance of our model."
   ]
  },
  {
   "cell_type": "code",
   "execution_count": 35,
   "metadata": {},
   "outputs": [],
   "source": [
    "# Your solution here, for example any number between 1-4\n",
    "3"
   ]
  },
  {
   "cell_type": "markdown",
   "metadata": {},
   "source": [
    "## Question 9 (5pts.)\n",
    "\n",
    "When training a machine learning model, we usually do a training and test set split. What do we use the training and test set for ?\n",
    "\n",
    "1. We use both the training set and the test set to train our model, and evaluate it's generalization performance on the accuracy of the concatenation of both data sets.\n",
    "\n",
    "\n",
    "2. We use the training set to train our model and the test set to estimate it's generalization performance. That is, it's prediction accuracy on unseen data points.\n",
    "\n",
    "\n",
    "3. We use the training and test split only to safe up computational time.\n",
    "\n",
    "\n",
    "4. We use the test set to train our model and the training set to estimate it's generalization performance. That is, it's prediction accuracy on unseen data points."
   ]
  },
  {
   "cell_type": "code",
   "execution_count": 36,
   "metadata": {},
   "outputs": [],
   "source": [
    "# Your solution here, for example any number between 1-4\n",
    "2"
   ]
  },
  {
   "cell_type": "markdown",
   "metadata": {},
   "source": [
    "## Question 10 (5pts.)\n",
    "\n",
    "Which of these statements about convex funtions is true ? \n",
    "\n",
    "1. Optimizing a convex function with respect to a certain variable(e.g. some weight variable w), will result in a ***local*** optimum.\n",
    "\n",
    "\n",
    "2. Convex functions are not differentiable and thus not optimizable.\n",
    "\n",
    "\n",
    "3. Optimizing a convex function with respect to a certain variable(e.g. some weight variable w), will result in a ***global*** optimum.\n",
    "\n",
    "\n",
    "4. There is no single loss/error function used in machine learning model that is a convex function."
   ]
  },
  {
   "cell_type": "code",
   "execution_count": 37,
   "metadata": {},
   "outputs": [],
   "source": [
    "# Your solution here, for example any number between 1-4\n",
    "3"
   ]
  },
  {
   "cell_type": "markdown",
   "metadata": {},
   "source": [
    "# Part II: Python programming exercises (50/100 pts.)\n",
    "For the programming exercises, please follow the following:\n",
    "- follow the instructions for each exercise\n",
    "- use the provided blocks to write your code, and do not delete any other code lines. \n",
    "- you can add cells for testing, but we will only evaluate what is in the block!\n",
    "- it is not necessary, but you may add comments to your code, explaining what your were thinking and trying to do. If the solution is not correct, we still can give you points based on your ideas!\n",
    "- do not hesistate to ask if something is not clear or you need help :)"
   ]
  },
  {
   "cell_type": "markdown",
   "metadata": {},
   "source": [
    "## Exercise 1: Pure Python (15 pts.)\n",
    "\n",
    "For the following exercises, use only pure python. Therefore do **NOT** import any libraries/modules."
   ]
  },
  {
   "cell_type": "markdown",
   "metadata": {},
   "source": [
    "### 1.1 List Evaluation (5 pts.)\n",
    "Find the largest and second largest value (`maxValue1` and `maxValue2` respectively) in a list of numbers, by completing the function below. Only use pure python for this! (No numpy, panda etc, but you may use in-built functions!)"
   ]
  },
  {
   "cell_type": "code",
   "execution_count": 4,
   "metadata": {},
   "outputs": [],
   "source": [
    "def getLargestValues(values):\n",
    "    maxValue1 = None\n",
    "    maxValue2 = None\n",
    "    #>>> YOUR CODE HERE >>>\n",
    "    maxValue1 = values[0]\n",
    "    for value in values:\n",
    "        if maxValue1 < value:\n",
    "            maxValue2 = maxValue1\n",
    "            maxValue1 = value\n",
    "    #<<<YOUE CODE ENDS <<<\n",
    "    return maxValue1, maxValue2"
   ]
  },
  {
   "cell_type": "code",
   "execution_count": 7,
   "metadata": {},
   "outputs": [
    {
     "data": {
      "text/plain": [
       "(7, 3)"
      ]
     },
     "execution_count": 7,
     "metadata": {},
     "output_type": "execute_result"
    }
   ],
   "source": [
    "#>>> PRINT OUT MESSAGE HERE >>>\n",
    "getLargestValues([1,3,3,7,7])\n",
    "#<<<YOUE CODE ENDS <<<"
   ]
  },
  {
   "cell_type": "markdown",
   "metadata": {},
   "source": [
    "### 1.2 List Comprehension (10 pts.)\n",
    "\n",
    "From a given string in the input `text`, answer the following questions with list comprehension:\n",
    " 1. what is the longest word in the string? If there are multiple, get the first one.\n",
    " 2. how many words start with the letter \"l\" and end with \"us\" in the string? \n",
    " 3. what is the most occuring letter in the string?\n",
    "\n",
    "Complete the corresponding function for each question, and print out a message. For example:\n",
    "\n",
    "*\"The longest word is: XXX\"*\n",
    "\n",
    "To test your methods, you can use the string provided in `dummy_text`, or write your own string.\n",
    "\n",
    "**Hint**: (Assume the string is only has white spaces as special characters and ends with some symbol)"
   ]
  },
  {
   "cell_type": "code",
   "execution_count": 41,
   "metadata": {
    "scrolled": true
   },
   "outputs": [
    {
     "data": {
      "text/plain": [
       "'Lorem ipsum dolor sit amet consectetur adipiscing elit Mauris egestas magna odio quis iaculis mi varius eget Phasellus rhoncus pharetra ullamcorper Proin fringilla turpis odio nec dignissim ligula iaculis eu Aenean ac orci luctus feugiat neque id aliquet tortor Nullam a gravida lacus sit amet commodo mi Nunc at pellentesque mi Proin luctus auctor gravida'"
      ]
     },
     "execution_count": 41,
     "metadata": {},
     "output_type": "execute_result"
    }
   ],
   "source": [
    "# use this string or write own string\n",
    "dummy_text = \"\".join(open(\"dummy_text.txt\", \"r\").readlines())[:-1]\n",
    "dummy_text"
   ]
  },
  {
   "cell_type": "code",
   "execution_count": 42,
   "metadata": {},
   "outputs": [],
   "source": [
    "def getQuestion1(text):\n",
    "    longestWord = \"\"\n",
    "    #>>> YOUR CODE HERE >>>\n",
    "    words = text.split(\" \")\n",
    "    for word in words:\n",
    "        if len(longestWord) < len(word):\n",
    "            longestWord = word\n",
    "    #<<<YOUE CODE ENDS <<<\n",
    "    return longestWord"
   ]
  },
  {
   "cell_type": "code",
   "execution_count": 43,
   "metadata": {},
   "outputs": [
    {
     "name": "stdout",
     "output_type": "stream",
     "text": [
      "The longest word is:\n"
     ]
    },
    {
     "data": {
      "text/plain": [
       "'pellentesque'"
      ]
     },
     "execution_count": 43,
     "metadata": {},
     "output_type": "execute_result"
    }
   ],
   "source": [
    "#>>> PRINT OUT MESSAGE HERE >>>\n",
    "print(\"The longest word is:\")\n",
    "getQuestion1(dummy_text)\n",
    "#<<<YOUE CODE ENDS <<<"
   ]
  },
  {
   "cell_type": "code",
   "execution_count": 44,
   "metadata": {},
   "outputs": [],
   "source": [
    "def getQuestion2(text):\n",
    "    countWords = None\n",
    "    countWords = 0\n",
    "    #>>> YOUR CODE HERE >>>\n",
    "    for word in text.split(\" \"):\n",
    "        if word[0] == \"l\" and word[-2:] == \"us\":\n",
    "            countWords += 1\n",
    "    #<<<YOUE CODE ENDS <<<\n",
    "    return countWords"
   ]
  },
  {
   "cell_type": "code",
   "execution_count": 45,
   "metadata": {},
   "outputs": [
    {
     "name": "stdout",
     "output_type": "stream",
     "text": [
      "The number of words that start with the letter \"l\" and end with \"us\" is: \n"
     ]
    },
    {
     "data": {
      "text/plain": [
       "3"
      ]
     },
     "execution_count": 45,
     "metadata": {},
     "output_type": "execute_result"
    }
   ],
   "source": [
    "#>>> PRINT OUT MESSAGE HERE >>>\n",
    "print('The number of words that start with the letter \"l\" and end with \"us\" is: ')\n",
    "getQuestion2(dummy_text)\n",
    "#<<<YOUE CODE ENDS <<<"
   ]
  },
  {
   "cell_type": "code",
   "execution_count": 68,
   "metadata": {},
   "outputs": [],
   "source": [
    "def getQuestion3(text):\n",
    "    mostFrequentLetter = \"\"\n",
    "    #>>> YOUR CODE HERE >>>\n",
    "    \n",
    "    #change text into small letter and remove space\n",
    "    text = text.lower().replace(\" \",\"\")\n",
    "    # create a letter list and dict\n",
    "    letter_list = [chr(x) for x in range(97,97+26)]\n",
    "    letter_dict = {letter:0 for letter in letter_list}\n",
    "    \n",
    "    #count number\n",
    "    for letter in text:\n",
    "        letter_dict[letter] += 1\n",
    "    #print(letter_dict)\n",
    "    \n",
    "    #get most freq number\n",
    "    most_freq_letter = []\n",
    "    max_freq = 0\n",
    "    for letter in letter_dict:\n",
    "        if letter_dict[letter] > max_freq:\n",
    "            max_freq = letter_dict[letter]\n",
    "            most_freq_letter = []\n",
    "            most_freq_letter.append(letter)\n",
    "        elif letter_dict[letter] == max_freq:\n",
    "            most_freq_letter.append(letter)\n",
    "    #print(most_freq_letter)\n",
    "    \n",
    "    mostFrequentLetter = most_freq_letter\n",
    "    \n",
    "    #<<<YOUE CODE ENDS <<<\n",
    "    return mostFrequentLetter"
   ]
  },
  {
   "cell_type": "code",
   "execution_count": 70,
   "metadata": {},
   "outputs": [
    {
     "name": "stdout",
     "output_type": "stream",
     "text": [
      "So the most occuring number is: \n"
     ]
    },
    {
     "data": {
      "text/plain": [
       "['i']"
      ]
     },
     "execution_count": 70,
     "metadata": {},
     "output_type": "execute_result"
    }
   ],
   "source": [
    "#>>> PRINT OUT MESSAGE HERE >>>\n",
    "print(\"So the most occuring number is: \")\n",
    "getQuestion3(dummy_text)\n",
    "#<<<YOUE CODE ENDS <<<"
   ]
  },
  {
   "cell_type": "markdown",
   "metadata": {},
   "source": [
    "## Exercise 2: Pandas and Matplotlib (35 pts.)\n",
    "\n",
    "For the following exercises, you need to import the `pandas` and `matplotlib` library. You may also use `numpy`, but it won't be necessary."
   ]
  },
  {
   "cell_type": "code",
   "execution_count": 71,
   "metadata": {},
   "outputs": [],
   "source": [
    "# run this to import the modules\n",
    "import pandas as pd\n",
    "import matplotlib.pyplot as plt\n",
    "%matplotlib inline"
   ]
  },
  {
   "cell_type": "markdown",
   "metadata": {},
   "source": [
    "### 2.1 Parse the dataset population.csv into a pandas DataFrame (5 pts.)\n",
    "\n",
    "Complete the function `getData(path)`, which reads the file specified in the `path` input. The function should return a pandas `DataFrame`, containing the data in _population.csv_."
   ]
  },
  {
   "cell_type": "code",
   "execution_count": 74,
   "metadata": {},
   "outputs": [],
   "source": [
    "def getData(path):\n",
    "    data = None;\n",
    "    #>>> YOUR CODE HERE >>>\n",
    "    data = pd.read_csv(path, header=None)\n",
    "    #<<<YOUE CODE ENDS <<<\n",
    "    return data"
   ]
  },
  {
   "cell_type": "code",
   "execution_count": 208,
   "metadata": {},
   "outputs": [
    {
     "data": {
      "text/html": [
       "<div>\n",
       "<style scoped>\n",
       "    .dataframe tbody tr th:only-of-type {\n",
       "        vertical-align: middle;\n",
       "    }\n",
       "\n",
       "    .dataframe tbody tr th {\n",
       "        vertical-align: top;\n",
       "    }\n",
       "\n",
       "    .dataframe thead th {\n",
       "        text-align: right;\n",
       "    }\n",
       "</style>\n",
       "<table border=\"1\" class=\"dataframe\">\n",
       "  <thead>\n",
       "    <tr style=\"text-align: right;\">\n",
       "      <th></th>\n",
       "      <th>Year</th>\n",
       "      <th>District.Code</th>\n",
       "      <th>District.Name</th>\n",
       "      <th>Neighborhood.Code</th>\n",
       "      <th>Neighborhood.Name</th>\n",
       "      <th>Gender</th>\n",
       "      <th>Age</th>\n",
       "      <th>Number</th>\n",
       "    </tr>\n",
       "  </thead>\n",
       "  <tbody>\n",
       "    <tr>\n",
       "      <td>0</td>\n",
       "      <td>2017</td>\n",
       "      <td>1</td>\n",
       "      <td>Ciutat Vella</td>\n",
       "      <td>1</td>\n",
       "      <td>el Raval</td>\n",
       "      <td>Male</td>\n",
       "      <td>0-4</td>\n",
       "      <td>224</td>\n",
       "    </tr>\n",
       "    <tr>\n",
       "      <td>1</td>\n",
       "      <td>2017</td>\n",
       "      <td>1</td>\n",
       "      <td>Ciutat Vella</td>\n",
       "      <td>2</td>\n",
       "      <td>el Barri Gòtic</td>\n",
       "      <td>Male</td>\n",
       "      <td>0-4</td>\n",
       "      <td>50</td>\n",
       "    </tr>\n",
       "    <tr>\n",
       "      <td>2</td>\n",
       "      <td>2017</td>\n",
       "      <td>1</td>\n",
       "      <td>Ciutat Vella</td>\n",
       "      <td>3</td>\n",
       "      <td>la Barceloneta</td>\n",
       "      <td>Male</td>\n",
       "      <td>0-4</td>\n",
       "      <td>43</td>\n",
       "    </tr>\n",
       "    <tr>\n",
       "      <td>3</td>\n",
       "      <td>2017</td>\n",
       "      <td>1</td>\n",
       "      <td>Ciutat Vella</td>\n",
       "      <td>4</td>\n",
       "      <td>Sant Pere, Santa Caterina i la Ribera</td>\n",
       "      <td>Male</td>\n",
       "      <td>0-4</td>\n",
       "      <td>95</td>\n",
       "    </tr>\n",
       "    <tr>\n",
       "      <td>4</td>\n",
       "      <td>2017</td>\n",
       "      <td>2</td>\n",
       "      <td>Eixample</td>\n",
       "      <td>5</td>\n",
       "      <td>el Fort Pienc</td>\n",
       "      <td>Male</td>\n",
       "      <td>0-4</td>\n",
       "      <td>124</td>\n",
       "    </tr>\n",
       "    <tr>\n",
       "      <td>...</td>\n",
       "      <td>...</td>\n",
       "      <td>...</td>\n",
       "      <td>...</td>\n",
       "      <td>...</td>\n",
       "      <td>...</td>\n",
       "      <td>...</td>\n",
       "      <td>...</td>\n",
       "      <td>...</td>\n",
       "    </tr>\n",
       "    <tr>\n",
       "      <td>70075</td>\n",
       "      <td>2013</td>\n",
       "      <td>10</td>\n",
       "      <td>Sant Martí</td>\n",
       "      <td>69</td>\n",
       "      <td>Diagonal Mar i el Front Marítim del Poblenou</td>\n",
       "      <td>Female</td>\n",
       "      <td>&gt;=95</td>\n",
       "      <td>21</td>\n",
       "    </tr>\n",
       "    <tr>\n",
       "      <td>70076</td>\n",
       "      <td>2013</td>\n",
       "      <td>10</td>\n",
       "      <td>Sant Martí</td>\n",
       "      <td>70</td>\n",
       "      <td>el Besòs i el Maresme</td>\n",
       "      <td>Female</td>\n",
       "      <td>&gt;=95</td>\n",
       "      <td>25</td>\n",
       "    </tr>\n",
       "    <tr>\n",
       "      <td>70077</td>\n",
       "      <td>2013</td>\n",
       "      <td>10</td>\n",
       "      <td>Sant Martí</td>\n",
       "      <td>71</td>\n",
       "      <td>Provençals del Poblenou</td>\n",
       "      <td>Female</td>\n",
       "      <td>&gt;=95</td>\n",
       "      <td>31</td>\n",
       "    </tr>\n",
       "    <tr>\n",
       "      <td>70078</td>\n",
       "      <td>2013</td>\n",
       "      <td>10</td>\n",
       "      <td>Sant Martí</td>\n",
       "      <td>72</td>\n",
       "      <td>Sant Martí de Provençals</td>\n",
       "      <td>Female</td>\n",
       "      <td>&gt;=95</td>\n",
       "      <td>38</td>\n",
       "    </tr>\n",
       "    <tr>\n",
       "      <td>70079</td>\n",
       "      <td>2013</td>\n",
       "      <td>10</td>\n",
       "      <td>Sant Martí</td>\n",
       "      <td>73</td>\n",
       "      <td>la Verneda i la Pau</td>\n",
       "      <td>Female</td>\n",
       "      <td>&gt;=95</td>\n",
       "      <td>47</td>\n",
       "    </tr>\n",
       "  </tbody>\n",
       "</table>\n",
       "<p>70080 rows × 8 columns</p>\n",
       "</div>"
      ],
      "text/plain": [
       "       Year  District.Code District.Name  Neighborhood.Code  \\\n",
       "0      2017              1  Ciutat Vella                  1   \n",
       "1      2017              1  Ciutat Vella                  2   \n",
       "2      2017              1  Ciutat Vella                  3   \n",
       "3      2017              1  Ciutat Vella                  4   \n",
       "4      2017              2      Eixample                  5   \n",
       "...     ...            ...           ...                ...   \n",
       "70075  2013             10    Sant Martí                 69   \n",
       "70076  2013             10    Sant Martí                 70   \n",
       "70077  2013             10    Sant Martí                 71   \n",
       "70078  2013             10    Sant Martí                 72   \n",
       "70079  2013             10    Sant Martí                 73   \n",
       "\n",
       "                                  Neighborhood.Name  Gender   Age  Number  \n",
       "0                                          el Raval    Male   0-4     224  \n",
       "1                                    el Barri Gòtic    Male   0-4      50  \n",
       "2                                    la Barceloneta    Male   0-4      43  \n",
       "3             Sant Pere, Santa Caterina i la Ribera    Male   0-4      95  \n",
       "4                                     el Fort Pienc    Male   0-4     124  \n",
       "...                                             ...     ...   ...     ...  \n",
       "70075  Diagonal Mar i el Front Marítim del Poblenou  Female  >=95      21  \n",
       "70076                         el Besòs i el Maresme  Female  >=95      25  \n",
       "70077                       Provençals del Poblenou  Female  >=95      31  \n",
       "70078                      Sant Martí de Provençals  Female  >=95      38  \n",
       "70079                           la Verneda i la Pau  Female  >=95      47  \n",
       "\n",
       "[70080 rows x 8 columns]"
      ]
     },
     "execution_count": 208,
     "metadata": {},
     "output_type": "execute_result"
    }
   ],
   "source": [
    "df = getData(\"population.csv\")\n",
    "df"
   ]
  },
  {
   "cell_type": "markdown",
   "metadata": {},
   "source": [
    "### 2.2 Print the total population of Barcelona (5 pts.)\n",
    "Complete the function `getTotalPopulation(data)`, which returns the total population of the city. Use the return value to print out message. The output should be in the form:\n",
    "\n",
    "*\"The total population of Barcelona is XXX people\"*"
   ]
  },
  {
   "cell_type": "code",
   "execution_count": 97,
   "metadata": {},
   "outputs": [],
   "source": [
    "def getTotalPopulation(data):\n",
    "    \n",
    "    population = None\n",
    "    #>>> YOUR CODE HERE >>>\n",
    "    population = data.groupby(\"Year\").sum()[\"Number\"][2017]\n",
    "    #<<<YOUE CODE ENDS <<<\n",
    "    \n",
    "    return population"
   ]
  },
  {
   "cell_type": "code",
   "execution_count": 104,
   "metadata": {},
   "outputs": [
    {
     "name": "stdout",
     "output_type": "stream",
     "text": [
      "The total population of Barcelona in 2017 is: \n"
     ]
    },
    {
     "data": {
      "text/plain": [
       "1620809"
      ]
     },
     "execution_count": 104,
     "metadata": {},
     "output_type": "execute_result"
    }
   ],
   "source": [
    "#>>> PRINT OUT MESSAGE HERE >>>\n",
    "print(\"The total population of Barcelona in 2017 is: \")\n",
    "getTotalPopulation(getData(\"population.csv\"))\n",
    "#<<<YOUE CODE ENDS <<<"
   ]
  },
  {
   "cell_type": "markdown",
   "metadata": {},
   "source": [
    "### 2.3 Retrieve the names and the populations of the Districts with the highest and lowest populations (5 pts.)\n",
    "\n",
    "Complete the function `getMaxNMinPopulationPerDistrict(data)`, which returns the max and min population for each district in a form of two tuples. One tuple contains the name and population for the disrict. (So basically, you are returning one tuple, which contains two tuples). Use the function to print out a message. The output should be in the form:\n",
    "\n",
    "*\"The district A has the highest population XXX people\"*\n",
    "\n",
    "*\"The district B has the lowest population: XXX people\"*\n"
   ]
  },
  {
   "cell_type": "code",
   "execution_count": 136,
   "metadata": {},
   "outputs": [],
   "source": [
    "def getMaxNMinPopulationPerDistrict(data):\n",
    "    #>>> YOUR CODE HERE >>>\n",
    "    \n",
    "    # I will do this problem for year 2017\n",
    "    # clear the data into 2017\n",
    "    data_2017 = data.set_index(\"Year\").loc[2017]\n",
    "    \n",
    "    \n",
    "    max_number = data_2017.sort_values(by=\"Number\").iloc[-1,:][\"Number\"]\n",
    "    max_district = data_2017.sort_values(by=\"Number\").iloc[-1,:][\"District.Name\"]\n",
    "    min_number = data_2017.sort_values(by=\"Number\").iloc[0,:][\"Number\"]\n",
    "    min_district = data_2017.sort_values(by=\"Number\").iloc[0,:][\"District.Name\"]\n",
    "    \n",
    "    print(\"In 2017,\")\n",
    "    print(\"The district \" + max_district + \" has the highest population \" + str(max_number) + \" people.\")\n",
    "    print(\"The district \" + min_district + \" has the lowest population \" + str(min_number) + \" people.\")\n",
    "    \n",
    "    #<<<YOUE CODE ENDS <<<\n",
    "    return "
   ]
  },
  {
   "cell_type": "code",
   "execution_count": 137,
   "metadata": {},
   "outputs": [
    {
     "name": "stdout",
     "output_type": "stream",
     "text": [
      "In 2017,\n",
      "The district Ciutat Vella has the highest population 659 people.\n",
      "The district Horta-Guinardó has the lowest population 0 people.\n"
     ]
    }
   ],
   "source": [
    "#>>> PRINT OUT MESSAGE HERE >>>\n",
    "getMaxNMinPopulationPerDistrict(getData(\"population.csv\"))\n",
    "#<<<YOUE CODE ENDS <<<"
   ]
  },
  {
   "cell_type": "markdown",
   "metadata": {},
   "source": [
    "### 2.4 Print the number of males and females in each district (5 pts.)\n",
    "\n",
    "Complete the function `getGenderPerDistrict(data)`, which returns a dictionary, where the keys are the districts, and the value for each key is a tuple. The tuple contains the number of female and male (in that order) for the district. Use the dictionary to print out a message for each district with the format:\n",
    "\n",
    "*In the district XXX, there are YYY females and ZZZ males.* "
   ]
  },
  {
   "cell_type": "code",
   "execution_count": 182,
   "metadata": {},
   "outputs": [],
   "source": [
    "def getGenderPerDistrict(data):\n",
    "    #>>> YOUR CODE HERE >>>\n",
    "    # clear the data into 2017\n",
    "    data_2017 = data.set_index(\"Year\").loc[2017]\n",
    "    \n",
    "    district_gender_dict = {}\n",
    "    for district in data_2017.groupby(\"District.Name\").sum().index:\n",
    "        district_gender_dict[district] = \\\n",
    "        (data_2017.groupby([\"District.Name\",\"Gender\"]).sum().loc[district,\"Female\"][\"Number\"],  \\\n",
    "         data_2017.groupby([\"District.Name\",\"Gender\"]).sum().loc[district,\"Male\"][\"Number\"])\n",
    "    for key,value in district_gender_dict.items():\n",
    "        print(\"In the district \"+ key + \", there are \" + str(value[0]) +\" females and \"+ str(value[1]) +\" males.\")\n",
    "\n",
    "    return district_gender_dict\n",
    "    #<<<YOUE CODE ENDS <<<"
   ]
  },
  {
   "cell_type": "code",
   "execution_count": 183,
   "metadata": {},
   "outputs": [
    {
     "name": "stdout",
     "output_type": "stream",
     "text": [
      "In the district Ciutat Vella, there are 48467 females and 52920 males.\n",
      "In the district Eixample, there are 142554 females and 123862 males.\n",
      "In the district Gràcia, there are 65793 females and 55554 males.\n",
      "In the district Horta-Guinardó, there are 89485 females and 79266 males.\n",
      "In the district Les Corts, there are 43820 females and 38213 males.\n",
      "In the district Nou Barris, there are 88348 females and 78231 males.\n",
      "In the district Sant Andreu, there are 77571 females and 70023 males.\n",
      "In the district Sant Martí, there are 122263 females and 113250 males.\n",
      "In the district Sants-Montjuïc, there are 95006 females and 86904 males.\n",
      "In the district Sarrià-Sant Gervasi, there are 80877 females and 68402 males.\n"
     ]
    },
    {
     "data": {
      "text/plain": [
       "{'Ciutat Vella': (48467, 52920),\n",
       " 'Eixample': (142554, 123862),\n",
       " 'Gràcia': (65793, 55554),\n",
       " 'Horta-Guinardó': (89485, 79266),\n",
       " 'Les Corts': (43820, 38213),\n",
       " 'Nou Barris': (88348, 78231),\n",
       " 'Sant Andreu': (77571, 70023),\n",
       " 'Sant Martí': (122263, 113250),\n",
       " 'Sants-Montjuïc': (95006, 86904),\n",
       " 'Sarrià-Sant Gervasi': (80877, 68402)}"
      ]
     },
     "execution_count": 183,
     "metadata": {},
     "output_type": "execute_result"
    }
   ],
   "source": [
    "#>>> PRINT OUT MESSAGE HERE >>>\n",
    "getGenderPerDistrict(getData(\"population.csv\"))\n",
    "#<<<YOUE CODE ENDS <<<"
   ]
  },
  {
   "cell_type": "markdown",
   "metadata": {},
   "source": [
    "### 2.5 Make a bar plot comparing the number of males and females in Barcelona (5 pts.)\n",
    "\n",
    "Complete the function `createBarPlot(data)`, which creates a bar plot for males and females in Barcelona. The function has no return value.\n",
    "The plot should include:\n",
    "- an explanative title\n",
    "- labels for both bars\n",
    "- labels for the number axis"
   ]
  },
  {
   "cell_type": "code",
   "execution_count": 201,
   "metadata": {},
   "outputs": [],
   "source": [
    "def createBarPlot(data):\n",
    "    #>>> YOUR CODE HERE >>>\n",
    "    # clear the data into 2017\n",
    "    data_2017 = data.set_index(\"Year\").loc[2017]\n",
    "    df_gender = data_2017.groupby(\"Gender\").sum().loc[:,\"Number\"]\n",
    "    pd.DataFrame(df_gender).plot.bar()\n",
    "    #<<<YOUE CODE ENDS <<<\n",
    "    return"
   ]
  },
  {
   "cell_type": "code",
   "execution_count": 203,
   "metadata": {
    "scrolled": true
   },
   "outputs": [
    {
     "data": {
      "image/png": "[encoded data removed]",
      "text/plain": [
       "<Figure size 432x288 with 1 Axes>"
      ]
     },
     "metadata": {
      "needs_background": "light"
     },
     "output_type": "display_data"
    }
   ],
   "source": [
    "createBarPlot(getData(\"population.csv\"))"
   ]
  },
  {
   "cell_type": "markdown",
   "metadata": {},
   "source": [
    "### 2.6 Make two overlapping histogram comparing population for the age groups for male and female (10 pts.)\n",
    "\n",
    "Complete the function `createHistogram(data)`, which creates two histograms in one plot, showing the distribution of age for male and female in Barcelona. The functions doesn't return anything.\n",
    "The plot should have:\n",
    "\n",
    "- two visible histograms\n",
    "- an explaining x- and y-label\n",
    "- x-ticks, showing the correct age group\n",
    "- a legend\n",
    "- a title\n",
    "\n",
    "Note: This might be a bit tricky! The column _Age_ doesn't hold numbers...\n",
    "\n",
    "Hint: There are two directions for solving this, the first is figuring what kind of input does `plt.hist()` take and creating data in that format, the second is not using `plt.hist()` but building the histogram out of something else, e.g. a bar plot."
   ]
  },
  {
   "cell_type": "code",
   "execution_count": 232,
   "metadata": {},
   "outputs": [],
   "source": [
    "def createHistogram(data):\n",
    "    #>>> YOUR CODE HERE >>>\n",
    "    # clear the data into 2017\n",
    "    data_2017 = data.set_index(\"Year\").loc[2017]\n",
    "    \n",
    "    # groupby\n",
    "    age_gender_plot = pd.DataFrame(data_2017.groupby([\"Gender\",\"Age\"]).sum()[\"Number\"])\n",
    "    male_plot = age_gender_plot.loc[\"Male\"]\n",
    "    female_plot = age_gender_plot.loc[\"Female\"]\n",
    "    \n",
    "    # plot\n",
    "    fig, axes = plt.subplots(nrows=1, ncols=2)\n",
    "    male_plot.plot.bar(ax=axes[0])\n",
    "    female_plot.plot.bar(ax=axes[1])\n",
    "    \n",
    "    # I have no time to add the label but I can do it.\n",
    "    # sorry\n",
    "    \n",
    "    #<<<YOUE CODE ENDS <<<"
   ]
  },
  {
   "cell_type": "code",
   "execution_count": 233,
   "metadata": {},
   "outputs": [
    {
     "data": {
      "image/png": "[encoded data removed]",
      "text/plain": [
       "<Figure size 432x288 with 2 Axes>"
      ]
     },
     "metadata": {
      "needs_background": "light"
     },
     "output_type": "display_data"
    }
   ],
   "source": [
    "createHistogram(getData(\"population.csv\"))"
   ]
  },
  {
   "cell_type": "code",
   "execution_count": null,
   "metadata": {},
   "outputs": [],
   "source": []
  },
  {
   "cell_type": "code",
   "execution_count": null,
   "metadata": {},
   "outputs": [],
   "source": []
  },
  {
   "cell_type": "code",
   "execution_count": null,
   "metadata": {},
   "outputs": [],
   "source": []
  }
 ],
 "metadata": {
  "kernelspec": {
   "display_name": "Python 3",
   "language": "python",
   "name": "python3"
  },
  "language_info": {
   "codemirror_mode": {
    "name": "ipython",
    "version": 3
   },
   "file_extension": ".py",
   "mimetype": "text/x-python",
   "name": "python",
   "nbconvert_exporter": "python",
   "pygments_lexer": "ipython3",
   "version": "3.7.4"
  }
 },
 "nbformat": 4,
 "nbformat_minor": 2
}
