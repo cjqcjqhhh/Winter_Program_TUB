{
 "cells": [
  {
   "cell_type": "markdown",
   "metadata": {},
   "source": [
    "# Little more numpy and plotting"
   ]
  },
  {
   "cell_type": "code",
   "execution_count": 2,
   "metadata": {},
   "outputs": [],
   "source": [
    "import numpy as np"
   ]
  },
  {
   "cell_type": "code",
   "execution_count": 3,
   "metadata": {},
   "outputs": [
    {
     "data": {
      "text/plain": [
       "array([[ 0.30981968, -0.91565111, -1.59087249, -0.47997615],\n",
       "       [-1.31539588,  0.58643428,  0.24922032,  1.01168644],\n",
       "       [ 0.38390201,  2.09388468, -0.81240906,  0.47257503]])"
      ]
     },
     "execution_count": 3,
     "metadata": {},
     "output_type": "execute_result"
    }
   ],
   "source": [
    "arr_list = [np.random.randn(3,4) for x in range(10)]\n",
    "arr_list[0]\n",
    "# randn 生产3*4个随机数 然后生成10个"
   ]
  },
  {
   "cell_type": "markdown",
   "metadata": {},
   "source": [
    "## Stack"
   ]
  },
  {
   "cell_type": "code",
   "execution_count": 4,
   "metadata": {},
   "outputs": [
    {
     "data": {
      "text/plain": [
       "array([[[ 3.09819680e-01, -9.15651112e-01, -1.59087249e+00,\n",
       "         -4.79976150e-01],\n",
       "        [-1.31539588e+00,  5.86434277e-01,  2.49220317e-01,\n",
       "          1.01168644e+00],\n",
       "        [ 3.83902010e-01,  2.09388468e+00, -8.12409059e-01,\n",
       "          4.72575025e-01]],\n",
       "\n",
       "       [[ 1.44064814e+00, -2.67973425e-01, -8.32392728e-01,\n",
       "          7.69050899e-01],\n",
       "        [ 1.22811268e-01,  2.69229660e-01, -8.05642026e-01,\n",
       "         -3.66150243e-01],\n",
       "        [ 1.58047200e+00,  7.96737725e-01,  1.13353076e+00,\n",
       "         -1.50813171e+00]],\n",
       "\n",
       "       [[ 2.90089570e-01,  6.24233186e-02,  4.58926598e-01,\n",
       "          1.56990203e-01],\n",
       "        [ 1.11588207e+00, -8.80038099e-01,  2.82807625e-02,\n",
       "          1.23692816e+00],\n",
       "        [-7.08088602e-01,  1.04975561e+00, -1.50838031e-01,\n",
       "          1.52806511e-03]],\n",
       "\n",
       "       [[-1.04370129e+00,  1.16032754e+00,  1.21989211e-01,\n",
       "         -2.00909075e+00],\n",
       "        [ 3.28646250e-01, -2.83586575e+00, -7.02605190e-01,\n",
       "          1.44358756e+00],\n",
       "        [-2.02438365e-01,  4.60602169e-01, -4.41713849e-01,\n",
       "          8.62983404e-01]],\n",
       "\n",
       "       [[ 3.04374886e-01,  1.61225490e+00, -6.20231499e-01,\n",
       "         -2.20336361e-01],\n",
       "        [ 4.56653012e-01, -1.76474816e+00, -8.23951029e-01,\n",
       "         -7.51846924e-01],\n",
       "        [-6.32029750e-01, -6.06372567e-01, -8.96880432e-01,\n",
       "         -6.00349653e-01]],\n",
       "\n",
       "       [[ 1.30847105e+00,  1.88764308e-01, -2.30475618e+00,\n",
       "          1.62856454e-01],\n",
       "        [-2.73010708e-01,  4.72897497e-02, -2.27962156e-01,\n",
       "          1.08545414e+00],\n",
       "        [ 1.29999912e-01, -1.64358796e+00,  1.32365576e+00,\n",
       "          2.38560059e-01]],\n",
       "\n",
       "       [[-2.96706639e-01,  1.34449440e+00,  9.50467766e-01,\n",
       "          1.10020722e+00],\n",
       "        [ 7.07582252e-01,  6.54994973e-01, -1.44534696e+00,\n",
       "         -7.78982816e-01],\n",
       "        [-2.52164913e+00,  5.41936295e-01,  3.71926375e-01,\n",
       "          1.07645602e+00]],\n",
       "\n",
       "       [[-1.03977628e+00, -2.17431361e-01,  7.37068844e-01,\n",
       "         -1.26007089e+00],\n",
       "        [ 4.80425988e-01, -3.55640075e-01, -3.09280980e-02,\n",
       "         -4.52947233e-01],\n",
       "        [ 8.73605826e-01,  1.97429309e-01, -1.18757730e+00,\n",
       "          7.52474558e-01]],\n",
       "\n",
       "       [[-1.05591899e+00,  2.64168039e+00,  7.57418352e-01,\n",
       "         -1.00332639e+00],\n",
       "        [-6.78551241e-01,  4.09090486e-01, -3.23614775e-03,\n",
       "          1.40720215e-01],\n",
       "        [ 5.78458939e-01, -1.11132347e-01, -1.85584933e+00,\n",
       "         -7.88805730e-01]],\n",
       "\n",
       "       [[-2.02671688e-02, -6.94081966e-01, -3.16181782e-02,\n",
       "         -1.16566658e+00],\n",
       "        [ 6.73437789e-01,  2.33600679e-01, -1.79421369e-01,\n",
       "         -1.29530648e+00],\n",
       "        [ 1.03958667e+00,  1.36817935e+00, -2.18309345e-01,\n",
       "          1.56739947e+00]]])"
      ]
     },
     "execution_count": 4,
     "metadata": {},
     "output_type": "execute_result"
    }
   ],
   "source": [
    "stacked_arr = np.stack(arr_list)\n",
    "stacked_arr\n",
    "#stack是堆栈 把之前生成的10个3*4堆在一起"
   ]
  },
  {
   "cell_type": "code",
   "execution_count": 5,
   "metadata": {},
   "outputs": [],
   "source": [
    "#vstack\n",
    "#hstack\n",
    "#可以把两个array竖着或者横着合起来"
   ]
  },
  {
   "cell_type": "markdown",
   "metadata": {},
   "source": [
    "# Numpy random"
   ]
  },
  {
   "cell_type": "code",
   "execution_count": 6,
   "metadata": {},
   "outputs": [
    {
     "data": {
      "text/plain": [
       "array([[ 3.07913293,  1.05509262, -0.68669984],\n",
       "       [ 2.0986167 , -0.35927358,  2.10397339],\n",
       "       [-0.3063967 ,  1.09576123,  0.16348413]])"
      ]
     },
     "execution_count": 6,
     "metadata": {},
     "output_type": "execute_result"
    }
   ],
   "source": [
    "read_x = np.random.normal(1,1,size = (3,3))\n",
    "# numpy.random.normal(loc=0.0, scale=1.0, size=None)\n",
    "read_x"
   ]
  },
  {
   "cell_type": "code",
   "execution_count": 7,
   "metadata": {},
   "outputs": [
    {
     "data": {
      "text/plain": [
       "array([[[ 1.58351825,  1.34777226,  2.68327197],\n",
       "        [ 0.49453813, -0.02176027,  1.2267136 ],\n",
       "        [ 1.78257402,  0.82834894,  1.75403066]],\n",
       "\n",
       "       [[ 1.2392961 , -1.01579965,  0.05668028],\n",
       "        [ 1.33699621, -0.80797222,  4.36392745],\n",
       "        [ 0.92667333, -0.92364206, -3.4626126 ]],\n",
       "\n",
       "       [[ 0.41555145, -0.06085714,  0.20248421],\n",
       "        [ 1.05047439,  0.76937767,  0.88074677],\n",
       "        [ 0.0104382 , -1.40724884,  3.21745432]]])"
      ]
     },
     "execution_count": 7,
     "metadata": {},
     "output_type": "execute_result"
    }
   ],
   "source": [
    "read_x = np.random.normal((1,0,2),(1,1,3),size = (3,3,3))\n",
    "read_x\n",
    "# 没懂 反正就是维度好像要一样？？？\n",
    "# 这个函数回去再研究一下"
   ]
  },
  {
   "cell_type": "code",
   "execution_count": 8,
   "metadata": {},
   "outputs": [],
   "source": [
    "#python way that create the normal distuibution\n",
    "samples = [\"A\"]*3\n",
    "samples.extend([\"B\"]*4)\n",
    "samples.extend([\"C\"]*9)\n",
    "samples\n",
    "\n",
    "countA = samples.count(\"A\")/len(samples)\n",
    "countB = samples.count(\"B\")/len(samples)\n",
    "countC = samples.count(\"C\")/len(samples)\n",
    "\n",
    "dist = [countA,countB,countC]\n",
    "\n",
    "possible_samples = set(samples)\n",
    "\n",
    "drawn_sample = np.random.choice(samples)\n",
    "#反正就是可以分配概率权值"
   ]
  },
  {
   "cell_type": "code",
   "execution_count": 9,
   "metadata": {},
   "outputs": [
    {
     "data": {
      "text/plain": [
       "array([[ 0,  1,  2,  3,  4],\n",
       "       [ 5,  6,  7,  8,  9],\n",
       "       [10, 11, 12, 13, 14],\n",
       "       [15, 16, 17, 18, 19],\n",
       "       [20, 21, 22, 23, 24],\n",
       "       [25, 26, 27, 28, 29]])"
      ]
     },
     "execution_count": 9,
     "metadata": {},
     "output_type": "execute_result"
    }
   ],
   "source": [
    "x = np.arange(30).reshape(6,5)\n",
    "x"
   ]
  },
  {
   "cell_type": "code",
   "execution_count": 10,
   "metadata": {},
   "outputs": [
    {
     "data": {
      "text/plain": [
       "array([0, 1, 2, 3, 4])"
      ]
     },
     "execution_count": 10,
     "metadata": {},
     "output_type": "execute_result"
    }
   ],
   "source": [
    "y = np.arange(5)\n",
    "y"
   ]
  },
  {
   "cell_type": "code",
   "execution_count": 11,
   "metadata": {},
   "outputs": [
    {
     "data": {
      "text/plain": [
       "array([ True,  True,  True,  True,  True])"
      ]
     },
     "execution_count": 11,
     "metadata": {},
     "output_type": "execute_result"
    }
   ],
   "source": [
    "mask  = np.isin(y,x)\n",
    "mask\n",
    "#检查所有x中元素是否在y中 若有则返回true，最后返回一个表"
   ]
  },
  {
   "cell_type": "markdown",
   "metadata": {},
   "source": [
    "# Plotting"
   ]
  },
  {
   "cell_type": "code",
   "execution_count": 12,
   "metadata": {},
   "outputs": [],
   "source": [
    "import matplotlib.pyplot as plt\n",
    "%matplotlib inline \n",
    "#告诉matplotlib在book里生成图片嘤嘤嘤"
   ]
  },
  {
   "cell_type": "markdown",
   "metadata": {},
   "source": [
    "## Scatter Line Plots"
   ]
  },
  {
   "cell_type": "code",
   "execution_count": 13,
   "metadata": {},
   "outputs": [
    {
     "data": {
      "image/png": "[encoded data removed]",
      "text/plain": [
       "<Figure size 432x288 with 1 Axes>"
      ]
     },
     "metadata": {
      "needs_background": "light"
     },
     "output_type": "display_data"
    }
   ],
   "source": [
    "x = [0,1,2]\n",
    "y = [0,2,3]\n",
    "\n",
    "a = [0,1,2]\n",
    "b = [3,1,4]\n",
    "\n",
    "plt.plot(x,y,marker=\"*\",linestyle=\"\",markersize=\"10\",label = \"A\")\n",
    "plt.plot(x,y,marker=\"*\",linestyle=\"\",markersize=\"10\",label = \"B\")\n",
    "\n",
    "#plt.xlim(0,8)\n",
    "#plt.ylim(0,10)\n",
    "plt.xlabel(\"time\")\n",
    "plt.ylabel(\"xixixi\")\n",
    "plt.legend()\n",
    "plt.title(\"lalalalla\")\n",
    "plt.show()\n",
    "# 一般要通过plt来显示图片\n",
    "# marker 用来显示每一个点\n",
    "# linestyle 可以用来去掉线！\n",
    "# xlim and ylim 坐标轴范围\n",
    "# xlabel and ylebel 坐标轴标签\n",
    "# legend 标签"
   ]
  },
  {
   "cell_type": "code",
   "execution_count": 14,
   "metadata": {},
   "outputs": [],
   "source": [
    "x = np.linspace(-50,50,1000)\n",
    "y = x**2\n",
    "# create 1000 value from 0-100 而且是平均取得"
   ]
  },
  {
   "cell_type": "code",
   "execution_count": 15,
   "metadata": {},
   "outputs": [
    {
     "data": {
      "image/png": "[encoded data removed]",
      "text/plain": [
       "<Figure size 432x288 with 1 Axes>"
      ]
     },
     "metadata": {
      "needs_background": "light"
     },
     "output_type": "display_data"
    }
   ],
   "source": [
    "plt.plot(x,y)\n",
    "plt.show()"
   ]
  },
  {
   "cell_type": "code",
   "execution_count": 16,
   "metadata": {},
   "outputs": [
    {
     "data": {
      "image/png": "[encoded data removed]",
      "text/plain": [
       "<Figure size 432x288 with 1 Axes>"
      ]
     },
     "metadata": {
      "needs_background": "light"
     },
     "output_type": "display_data"
    }
   ],
   "source": [
    "x = [0,1,2]\n",
    "y = [0,2,3]\n",
    "plt.scatter(x,y,s=np.array([1,5,10])*100,color = np.array([\"r\",\"g\",\"b\"]))\n",
    "plt.show()\n",
    "#同样可以用一样大小的array来控制每一个点的状态"
   ]
  },
  {
   "cell_type": "markdown",
   "metadata": {},
   "source": [
    "# Bar Plots"
   ]
  },
  {
   "cell_type": "code",
   "execution_count": 17,
   "metadata": {},
   "outputs": [
    {
     "data": {
      "image/png": "[encoded data removed]",
      "text/plain": [
       "<Figure size 432x288 with 1 Axes>"
      ]
     },
     "metadata": {
      "needs_background": "light"
     },
     "output_type": "display_data"
    }
   ],
   "source": [
    "values_A = [100,80,70]\n",
    "values_B = [60,40,100]\n",
    "\n",
    "plt.bar([0,3,6],values_A,label = \"A\")\n",
    "plt.bar([1,4,7],values_B,label = \"B\")\n",
    "plt.xticks([0.5,3.5,6.5],[\"Test1\",\"Test2\",\"Test3\"]) #增加x轴的label\n",
    "plt.legend(loc = \"lower right\", bbox_to_anchor = (1.25,0.5))\n",
    "# loc位置，后面那个是移动的距离\n",
    "plt.show()"
   ]
  },
  {
   "cell_type": "markdown",
   "metadata": {},
   "source": [
    "# Histogram 直方图"
   ]
  },
  {
   "cell_type": "code",
   "execution_count": 18,
   "metadata": {},
   "outputs": [
    {
     "data": {
      "image/png": "[encoded data removed]",
      "text/plain": [
       "<Figure size 432x288 with 1 Axes>"
      ]
     },
     "metadata": {
      "needs_background": "light"
     },
     "output_type": "display_data"
    }
   ],
   "source": [
    "a = np.array([0,0,0,0,1,1,1,2,2,3,4,4,5,5,5,6,9,9,9,9,9,-1,-1])\n",
    "plt.hist(a,bins = np.arange(10)+0.5,rwidth = 0.1)\n",
    "#bins 就是调那个柱子的起始位置\n",
    "# 所以-1就画不出来了\n",
    "plt.show()"
   ]
  },
  {
   "cell_type": "code",
   "execution_count": 19,
   "metadata": {},
   "outputs": [
    {
     "data": {
      "image/png": "[encoded data removed]",
      "text/plain": [
       "<Figure size 432x288 with 1 Axes>"
      ]
     },
     "metadata": {
      "needs_background": "light"
     },
     "output_type": "display_data"
    }
   ],
   "source": [
    "mu = 0\n",
    "sigma = 1\n",
    "bin_n = 2000 #切片频率\n",
    "gauss = np.random.normal(mu,sigma,size =1000000) #size实验次数\n",
    "counts, bins, patches = plt.hist(gauss,bins=bin_n,density=True)\n",
    "plt.show()"
   ]
  },
  {
   "cell_type": "markdown",
   "metadata": {},
   "source": [
    "# Boxplot"
   ]
  },
  {
   "cell_type": "code",
   "execution_count": 20,
   "metadata": {},
   "outputs": [],
   "source": [
    "a = []"
   ]
  },
  {
   "cell_type": "markdown",
   "metadata": {},
   "source": [
    "# Image plotting"
   ]
  },
  {
   "cell_type": "code",
   "execution_count": 21,
   "metadata": {},
   "outputs": [],
   "source": [
    "import matplotlib.image as mping"
   ]
  },
  {
   "cell_type": "code",
   "execution_count": 22,
   "metadata": {
    "scrolled": true
   },
   "outputs": [
    {
     "ename": "NameError",
     "evalue": "name 'mpimg' is not defined",
     "output_type": "error",
     "traceback": [
      "\u001b[1;31m---------------------------------------------------------------------------\u001b[0m",
      "\u001b[1;31mNameError\u001b[0m                                 Traceback (most recent call last)",
      "\u001b[1;32m<ipython-input-22-d1204f863ee0>\u001b[0m in \u001b[0;36m<module>\u001b[1;34m\u001b[0m\n\u001b[1;32m----> 1\u001b[1;33m \u001b[0mimg\u001b[0m \u001b[1;33m=\u001b[0m \u001b[0mmpimg\u001b[0m\u001b[1;33m.\u001b[0m\u001b[0mimread\u001b[0m\u001b[1;33m(\u001b[0m\u001b[1;34m\"lxs.jpg\"\u001b[0m\u001b[1;33m)\u001b[0m\u001b[1;33m\u001b[0m\u001b[1;33m\u001b[0m\u001b[0m\n\u001b[0m\u001b[0;32m      2\u001b[0m \u001b[0mplt\u001b[0m\u001b[1;33m.\u001b[0m\u001b[0mimshow\u001b[0m\u001b[1;33m(\u001b[0m\u001b[0mimg\u001b[0m\u001b[1;33m)\u001b[0m\u001b[1;33m\u001b[0m\u001b[1;33m\u001b[0m\u001b[0m\n\u001b[0;32m      3\u001b[0m \u001b[0mplt\u001b[0m\u001b[1;33m.\u001b[0m\u001b[0mshow\u001b[0m\u001b[1;33m(\u001b[0m\u001b[1;33m)\u001b[0m\u001b[1;33m\u001b[0m\u001b[1;33m\u001b[0m\u001b[0m\n",
      "\u001b[1;31mNameError\u001b[0m: name 'mpimg' is not defined"
     ]
    }
   ],
   "source": [
    "img = mpimg.imread(\"lxs.jpg\")\n",
    "plt.imshow(img)\n",
    "plt.show()"
   ]
  },
  {
   "cell_type": "code",
   "execution_count": null,
   "metadata": {},
   "outputs": [],
   "source": [
    "img.shape"
   ]
  },
  {
   "cell_type": "code",
   "execution_count": null,
   "metadata": {},
   "outputs": [],
   "source": [
    "img_red = img[:,:,0]\n",
    "plt.imshow(img_red)\n",
    "plt.show()"
   ]
  },
  {
   "cell_type": "code",
   "execution_count": null,
   "metadata": {},
   "outputs": [],
   "source": [
    "plt.imshow(img[:,:,0],cmap = \"hot\")\n",
    "plt.show()\n",
    "# color map"
   ]
  },
  {
   "cell_type": "code",
   "execution_count": null,
   "metadata": {
    "scrolled": true
   },
   "outputs": [],
   "source": [
    "img_fliter = img[::50,::50,:]\n",
    "# 每30个取一个点，打马赛克\n",
    "plt.imshow(img_fliter)\n",
    "plt.show()\n",
    "plt.imsave(\"lxsnew.jpg\",img_fliter)"
   ]
  },
  {
   "cell_type": "code",
   "execution_count": 23,
   "metadata": {},
   "outputs": [
    {
     "ename": "NameError",
     "evalue": "name 'img' is not defined",
     "output_type": "error",
     "traceback": [
      "\u001b[1;31m---------------------------------------------------------------------------\u001b[0m",
      "\u001b[1;31mNameError\u001b[0m                                 Traceback (most recent call last)",
      "\u001b[1;32m<ipython-input-23-11dc8ac101e6>\u001b[0m in \u001b[0;36m<module>\u001b[1;34m\u001b[0m\n\u001b[0;32m      1\u001b[0m \u001b[0mfig\u001b[0m\u001b[1;33m,\u001b[0m\u001b[0maxes\u001b[0m \u001b[1;33m=\u001b[0m \u001b[0mplt\u001b[0m\u001b[1;33m.\u001b[0m\u001b[0msubplots\u001b[0m\u001b[1;33m(\u001b[0m\u001b[1;36m2\u001b[0m\u001b[1;33m,\u001b[0m\u001b[1;36m2\u001b[0m\u001b[1;33m,\u001b[0m\u001b[0mfigsize\u001b[0m \u001b[1;33m=\u001b[0m \u001b[1;33m(\u001b[0m\u001b[1;36m10\u001b[0m\u001b[1;33m,\u001b[0m\u001b[1;36m10\u001b[0m\u001b[1;33m)\u001b[0m\u001b[1;33m)\u001b[0m\u001b[1;33m\u001b[0m\u001b[1;33m\u001b[0m\u001b[0m\n\u001b[1;32m----> 2\u001b[1;33m \u001b[0maxes\u001b[0m\u001b[1;33m[\u001b[0m\u001b[1;36m0\u001b[0m\u001b[1;33m]\u001b[0m\u001b[1;33m[\u001b[0m\u001b[1;36m0\u001b[0m\u001b[1;33m]\u001b[0m\u001b[1;33m.\u001b[0m\u001b[0mimshow\u001b[0m\u001b[1;33m(\u001b[0m\u001b[0mimg\u001b[0m\u001b[1;33m)\u001b[0m\u001b[1;33m\u001b[0m\u001b[1;33m\u001b[0m\u001b[0m\n\u001b[0m\u001b[0;32m      3\u001b[0m \u001b[0mplt\u001b[0m\u001b[1;33m.\u001b[0m\u001b[0mshow\u001b[0m\u001b[1;33m(\u001b[0m\u001b[1;33m)\u001b[0m\u001b[1;33m\u001b[0m\u001b[1;33m\u001b[0m\u001b[0m\n",
      "\u001b[1;31mNameError\u001b[0m: name 'img' is not defined"
     ]
    },
    {
     "data": {
      "image/png": "[encoded data removed]",
      "text/plain": [
       "<Figure size 720x720 with 4 Axes>"
      ]
     },
     "metadata": {
      "needs_background": "light"
     },
     "output_type": "display_data"
    }
   ],
   "source": [
    "fig,axes = plt.subplots(2,2,figsize = (10,10))\n",
    "axes[0][0].imshow(img)\n",
    "plt.show()"
   ]
  },
  {
   "cell_type": "code",
   "execution_count": null,
   "metadata": {},
   "outputs": [],
   "source": []
  },
  {
   "cell_type": "code",
   "execution_count": null,
   "metadata": {},
   "outputs": [],
   "source": []
  },
  {
   "cell_type": "code",
   "execution_count": null,
   "metadata": {},
   "outputs": [],
   "source": []
  }
 ],
 "metadata": {
  "kernelspec": {
   "display_name": "Python 3",
   "language": "python",
   "name": "python3"
  },
  "language_info": {
   "codemirror_mode": {
    "name": "ipython",
    "version": 3
   },
   "file_extension": ".py",
   "mimetype": "text/x-python",
   "name": "python",
   "nbconvert_exporter": "python",
   "pygments_lexer": "ipython3",
   "version": "3.7.4"
  },
  "toc": {
   "base_numbering": 1,
   "nav_menu": {},
   "number_sections": true,
   "sideBar": true,
   "skip_h1_title": false,
   "title_cell": "Table of Contents",
   "title_sidebar": "Contents",
   "toc_cell": false,
   "toc_position": {},
   "toc_section_display": true,
   "toc_window_display": false
  }
 },
 "nbformat": 4,
 "nbformat_minor": 2
}
