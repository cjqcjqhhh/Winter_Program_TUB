{
 "cells": [
  {
   "cell_type": "markdown",
   "metadata": {},
   "source": [
    "# Day 1 Exercise: Python Basics\n",
    "\n",
    "This sheet will help you learn the python basics!"
   ]
  },
  {
   "cell_type": "markdown",
   "metadata": {},
   "source": [
    "## 1. Build a List Evaluator"
   ]
  },
  {
   "cell_type": "markdown",
   "metadata": {},
   "source": [
    "Create a function, which calculates and prints out the maximum value, minimum value, average, and the variance of a list of numbers. (Try not to use the sum, max or min functions in python).\n",
    "\n",
    "(Quick reminder variance)\n",
    "![](variance-formula.png)"
   ]
  },
  {
   "cell_type": "code",
   "execution_count": 133,
   "metadata": {},
   "outputs": [],
   "source": [
    "def listeva(lists):\n",
    "    #max\n",
    "    max = lists[0]\n",
    "    for list in lists:\n",
    "        if list>max:\n",
    "            max = list\n",
    "    print(\"max = \" + str(max))\n",
    "    \n",
    "    #min\n",
    "    min = lists[0]\n",
    "    for list in lists:\n",
    "        if list<min:\n",
    "            min = list\n",
    "    print(\"min = \" + str(min))\n",
    "    \n",
    "    #variance\n",
    "    sum = 0\n",
    "    for list in lists:\n",
    "        sum = sum + list\n",
    "    avg = sum/len(lists)\n",
    "    print(\"avg = \" + str(avg))\n",
    "    \n",
    "    var = 0\n",
    "    for list in lists:\n",
    "        var = var + (list - avg)**2/(len(lists)-1) #maybe there is an minor 1?\n",
    "    print(\"var = \" + str(var))"
   ]
  },
  {
   "cell_type": "code",
   "execution_count": 134,
   "metadata": {},
   "outputs": [
    {
     "name": "stdout",
     "output_type": "stream",
     "text": [
      "max = 6\n",
      "min = 1\n",
      "avg = 3.5\n",
      "var = 3.5\n"
     ]
    }
   ],
   "source": [
    "listeva([1,2,3,4,5,6])"
   ]
  },
  {
   "cell_type": "markdown",
   "metadata": {},
   "source": [
    "## 2.  Build a simple calculator\n",
    "\n",
    "Write a function, which takes in two numbers, x and y, and does a mathmatical operation of those numbers. The third input is the operation, which should be a string. Possible operations are: _\"add\"_, _\"subtract\"_, _\"multiply\"_, _\"divide\"_, _\"whole-division\"_ , _\"modulo\"_ and _\"power\"_ (x to the power of y). \n",
    "\n",
    "Your function should make sure the values x and y are of type _int_ or _float_. If the values x and y are not numbers, or the operation is not one of the listed ones, the function should print out a message with the error."
   ]
  },
  {
   "cell_type": "code",
   "execution_count": 135,
   "metadata": {},
   "outputs": [],
   "source": [
    "def simcal(x,y,op):\n",
    "    #check\n",
    "    ifx = type(x) == int or type(x) == float\n",
    "    ify = type(y) == int or type(x) == float\n",
    "    if ifx and ify:\n",
    "        #add\n",
    "        if op == \"add\":\n",
    "            return x+y\n",
    "        elif op == \"subtract\":\n",
    "            return x-y\n",
    "        elif op == \"multiply\":\n",
    "            return x*y\n",
    "        elif op == \"divide\":\n",
    "            return x/y\n",
    "        elif op == \"whole-division\":\n",
    "            return x//y\n",
    "        elif op == \"modulo\":\n",
    "            return x%y\n",
    "        elif op == \"power\":\n",
    "            return x**y\n",
    "        else: \n",
    "            print(\"error\")\n",
    "    else: \n",
    "        print(\"error\")\n",
    "    "
   ]
  },
  {
   "cell_type": "code",
   "execution_count": 136,
   "metadata": {},
   "outputs": [
    {
     "data": {
      "text/plain": [
       "1"
      ]
     },
     "execution_count": 136,
     "metadata": {},
     "output_type": "execute_result"
    }
   ],
   "source": [
    "simcal(3,2,\"modulo\")"
   ]
  },
  {
   "cell_type": "markdown",
   "metadata": {},
   "source": [
    "## 3. Build an Invoice Generator\n",
    "\n",
    "Write a function, which prints out an invoice for an order for a supermarket. At the moment, the supermarket only has only 4 different products and prices for each: \n",
    "\n",
    "- Watermelons for 3.8\n",
    "- Apples  for 0.9 \n",
    "- Bananas for 1.1 \n",
    "- Tomatoes for 2.7\n",
    "\n",
    "Since the supermarket is pretty new, they have a special going on: If one buys more tomatoes than watermelons, the bananas are free! Else, if the price for all apples is higher than the price for all tomatoes, the watermelons are free! (weird special , I know).\n",
    "The input for the generator is: the name of the customer and number of each item bought. The generator should print out an invoice."
   ]
  },
  {
   "cell_type": "code",
   "execution_count": 121,
   "metadata": {},
   "outputs": [],
   "source": [
    "def Invge(name,a,b,c,d):\n",
    "    sum = 0\n",
    "    pw = 3.8 * a\n",
    "    pa = 0.9 * b\n",
    "    pb = 1.1 * c\n",
    "    pt = 2.7 * d\n",
    "    if d>a:\n",
    "        pb = 0\n",
    "    if pa>pt:\n",
    "        pw = 0;\n",
    "    sum = pw + pa + pb + pt\n",
    "    \n",
    "    print(\"Name: \"+ name)\n",
    "    print(\"Bill: \" + str(sum))"
   ]
  },
  {
   "cell_type": "code",
   "execution_count": 122,
   "metadata": {},
   "outputs": [
    {
     "name": "stdout",
     "output_type": "stream",
     "text": [
      "Name: Greg\n",
      "Bill: 16.4\n"
     ]
    }
   ],
   "source": [
    "Invge(\"Greg\",1,2,3,4)"
   ]
  },
  {
   "cell_type": "markdown",
   "metadata": {},
   "source": [
    "## 4. Fibonnaci\n",
    "\n",
    "Write a function which calculates and prints the fibonacci series up to n. If that is too easy: Rewrite the function recursively (the function should call itself)."
   ]
  },
  {
   "cell_type": "code",
   "execution_count": 46,
   "metadata": {},
   "outputs": [],
   "source": [
    "def fib(n):\n",
    "    if n<=2:\n",
    "        if n==1:\n",
    "            fib = [1]\n",
    "        if n==2:\n",
    "            fib = [1,1]\n",
    "    else:\n",
    "        fib = [1,1]\n",
    "        for i in range(n-2):\n",
    "            fib.append(fib[-1]+fib[-2])\n",
    "    for i in fib:\n",
    "        print(i)"
   ]
  },
  {
   "cell_type": "code",
   "execution_count": 166,
   "metadata": {},
   "outputs": [
    {
     "name": "stdout",
     "output_type": "stream",
     "text": [
      "1\n",
      "1\n",
      "2\n",
      "3\n",
      "5\n",
      "8\n",
      "13\n",
      "21\n",
      "34\n"
     ]
    }
   ],
   "source": [
    "fib(9)"
   ]
  },
  {
   "cell_type": "code",
   "execution_count": 159,
   "metadata": {},
   "outputs": [],
   "source": [
    "def fibn(n):\n",
    "    if n==1:\n",
    "        return 1\n",
    "    if n==2:\n",
    "        return 1\n",
    "    if n>2:\n",
    "        return fibn(n-1)+fibn(n-2)\n",
    "\n",
    "def fibr(n):\n",
    "    for i in range(n):\n",
    "        print(fibn(i+1))"
   ]
  },
  {
   "cell_type": "code",
   "execution_count": 164,
   "metadata": {},
   "outputs": [
    {
     "name": "stdout",
     "output_type": "stream",
     "text": [
      "1\n",
      "1\n",
      "2\n",
      "3\n",
      "5\n",
      "8\n",
      "13\n",
      "21\n",
      "34\n"
     ]
    }
   ],
   "source": [
    "fibr(9)"
   ]
  },
  {
   "cell_type": "markdown",
   "metadata": {},
   "source": [
    "## 5. Build an Encoder and Decoder"
   ]
  },
  {
   "cell_type": "markdown",
   "metadata": {},
   "source": [
    "Create an encrypt function that takes a string and returns the sentence with all the letters transposed by a key in the alphabet. The key is an integer specfied in the encrypt function. Also write a decrypt function, which takes an encrypted sentence and a key as input and returns the initial string (if the key is correct!). Symbols should not be transposed!"
   ]
  },
  {
   "cell_type": "code",
   "execution_count": 85,
   "metadata": {},
   "outputs": [],
   "source": [
    "def encoder(string,k):\n",
    "    newstring = ''\n",
    "    for i in range(len(string)):\n",
    "        if string[i].isalpha():\n",
    "            newstring = newstring + chr(ord(string[i]) + k)\n",
    "        else:\n",
    "            newstring = newstring + string[i]\n",
    "    return newstring\n",
    "\n",
    "def decoder(newstring,k):\n",
    "    string = \"\"\n",
    "    for i in range(len(newstring)):\n",
    "        if newstring[i].isalpha():\n",
    "            string = string + chr(ord(newstring[i]) - k)\n",
    "        else:\n",
    "            string = string + newstring[i]\n",
    "    return string"
   ]
  },
  {
   "cell_type": "code",
   "execution_count": 89,
   "metadata": {},
   "outputs": [
    {
     "data": {
      "text/plain": [
       "('jgnnq3gf,.', 'hello3ed,.')"
      ]
     },
     "execution_count": 89,
     "metadata": {},
     "output_type": "execute_result"
    }
   ],
   "source": [
    "a = encoder(\"hello3ed,.\",2)\n",
    "b = decoder(\"jgnnq3gf,.\",2)\n",
    "a,b"
   ]
  },
  {
   "cell_type": "markdown",
   "metadata": {},
   "source": [
    "## 6. Build a X-mas Tree generator"
   ]
  },
  {
   "cell_type": "markdown",
   "metadata": {},
   "source": [
    "Write a function which prints out a christmas tree! The tree consisits out of stars. The input to the function is only the number of levels and the height of each level. With each level, the tree gets two starts wider. Example:\n",
    "\n",
    "![](example_xmas_tree.png)"
   ]
  },
  {
   "cell_type": "code",
   "execution_count": 115,
   "metadata": {},
   "outputs": [],
   "source": [
    "def DrawTree(level,h):\n",
    "    startnum = []\n",
    "    for i in range(level):\n",
    "        startnum.append(2*i+1)\n",
    "    #print(startnum)\n",
    "    num = []\n",
    "    for i in startnum:\n",
    "        line = []\n",
    "        for j in range(h):\n",
    "            line.append(i+2*(j))\n",
    "        num.append(line)\n",
    "    #print(num)\n",
    "    \n",
    "    max = num[-1][-1]\n",
    "    for i in range(len(num)):\n",
    "        for j in range(len(num[i])):\n",
    "            pi = \"\"\n",
    "            for p in range(int((max-num[i][j])/2)):\n",
    "                pi = pi + \" \"\n",
    "            for p in range(num[i][j]):\n",
    "                pi = pi + \"*\"\n",
    "            for p in range(int((max-num[i][j])/2)):\n",
    "                pi = pi + \" \"\n",
    "            print(pi)"
   ]
  },
  {
   "cell_type": "code",
   "execution_count": 119,
   "metadata": {},
   "outputs": [
    {
     "name": "stdout",
     "output_type": "stream",
     "text": [
      "          *          \n",
      "         ***         \n",
      "        *****        \n",
      "       *******       \n",
      "      *********      \n",
      "     ***********     \n",
      "    *************    \n",
      "         ***         \n",
      "        *****        \n",
      "       *******       \n",
      "      *********      \n",
      "     ***********     \n",
      "    *************    \n",
      "   ***************   \n",
      "        *****        \n",
      "       *******       \n",
      "      *********      \n",
      "     ***********     \n",
      "    *************    \n",
      "   ***************   \n",
      "  *****************  \n",
      "       *******       \n",
      "      *********      \n",
      "     ***********     \n",
      "    *************    \n",
      "   ***************   \n",
      "  *****************  \n",
      " ******************* \n",
      "      *********      \n",
      "     ***********     \n",
      "    *************    \n",
      "   ***************   \n",
      "  *****************  \n",
      " ******************* \n",
      "*********************\n"
     ]
    }
   ],
   "source": [
    "DrawTree(5,7)"
   ]
  }
 ],
 "metadata": {
  "kernelspec": {
   "display_name": "Python 3",
   "language": "python",
   "name": "python3"
  },
  "language_info": {
   "codemirror_mode": {
    "name": "ipython",
    "version": 3
   },
   "file_extension": ".py",
   "mimetype": "text/x-python",
   "name": "python",
   "nbconvert_exporter": "python",
   "pygments_lexer": "ipython3",
   "version": "3.7.4"
  }
 },
 "nbformat": 4,
 "nbformat_minor": 2
}
